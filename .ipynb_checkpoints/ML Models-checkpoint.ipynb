{
 "cells": [
  {
   "cell_type": "code",
   "execution_count": 1,
   "id": "823e7898",
   "metadata": {},
   "outputs": [],
   "source": [
    "import pandas as pd\n",
    "import seaborn as sns\n",
    "from sklearn import preprocessing\n",
    "from sklearn.model_selection import train_test_split\n",
    "from sklearn.ensemble import RandomForestClassifier\n",
    "from sklearn.metrics import accuracy_score, confusion_matrix"
   ]
  },
  {
   "cell_type": "code",
   "execution_count": 2,
   "id": "49a6370e",
   "metadata": {},
   "outputs": [],
   "source": [
    "og_obesity = pd.read_csv(\"ObesityDataSet.csv\")\n",
    "train_dlm = pd.read_csv(\"train_dlm.csv\")\n",
    "test_data = pd.read_csv(\"test.csv\")"
   ]
  },
  {
   "cell_type": "code",
   "execution_count": 3,
   "id": "2ab0fa8c",
   "metadata": {},
   "outputs": [],
   "source": [
    "label_encoder = preprocessing.LabelEncoder()\n",
    "\n",
    "og_obesity_encoded = og_obesity.copy()\n",
    "train_dlm_encoded = train_dlm.copy()\n",
    "test_data_encoded = test_data.copy()"
   ]
  },
  {
   "cell_type": "code",
   "execution_count": 4,
   "id": "16e2a415",
   "metadata": {},
   "outputs": [],
   "source": [
    "og_obesity_encoded[['Gender','family_history_with_overweight','FAVC','CAEC','SMOKE','SCC','CALC','MTRANS']] = og_obesity_encoded[['Gender','family_history_with_overweight','FAVC','CAEC','SMOKE','SCC','CALC','MTRANS']].apply(label_encoder.fit_transform)\n",
    "\n",
    "train_dlm_encoded[['Gender','family_history_with_overweight','FAVC','CAEC','SMOKE','SCC','CALC','MTRANS']] = train_dlm_encoded[['Gender','family_history_with_overweight','FAVC','CAEC','SMOKE','SCC','CALC','MTRANS']].apply(label_encoder.fit_transform)\n",
    "\n",
    "test_data_encoded[['Gender','family_history_with_overweight','FAVC','CAEC','SMOKE','SCC','CALC','MTRANS']] = test_data_encoded[['Gender','family_history_with_overweight','FAVC','CAEC','SMOKE','SCC','CALC','MTRANS']].apply(label_encoder.fit_transform)"
   ]
  },
  {
   "cell_type": "code",
   "execution_count": 5,
   "id": "50a15053",
   "metadata": {},
   "outputs": [
    {
     "data": {
      "text/html": [
       "<div>\n",
       "<style scoped>\n",
       "    .dataframe tbody tr th:only-of-type {\n",
       "        vertical-align: middle;\n",
       "    }\n",
       "\n",
       "    .dataframe tbody tr th {\n",
       "        vertical-align: top;\n",
       "    }\n",
       "\n",
       "    .dataframe thead th {\n",
       "        text-align: right;\n",
       "    }\n",
       "</style>\n",
       "<table border=\"1\" class=\"dataframe\">\n",
       "  <thead>\n",
       "    <tr style=\"text-align: right;\">\n",
       "      <th></th>\n",
       "      <th>Gender</th>\n",
       "      <th>Age</th>\n",
       "      <th>Height</th>\n",
       "      <th>Weight</th>\n",
       "      <th>family_history_with_overweight</th>\n",
       "      <th>FAVC</th>\n",
       "      <th>FCVC</th>\n",
       "      <th>NCP</th>\n",
       "      <th>CAEC</th>\n",
       "      <th>SMOKE</th>\n",
       "      <th>CH2O</th>\n",
       "      <th>SCC</th>\n",
       "      <th>FAF</th>\n",
       "      <th>TUE</th>\n",
       "      <th>CALC</th>\n",
       "      <th>MTRANS</th>\n",
       "      <th>NObeyesdad</th>\n",
       "    </tr>\n",
       "  </thead>\n",
       "  <tbody>\n",
       "    <tr>\n",
       "      <th>0</th>\n",
       "      <td>0</td>\n",
       "      <td>21.0</td>\n",
       "      <td>1.62</td>\n",
       "      <td>64.0</td>\n",
       "      <td>1</td>\n",
       "      <td>0</td>\n",
       "      <td>2.0</td>\n",
       "      <td>3.0</td>\n",
       "      <td>2</td>\n",
       "      <td>0</td>\n",
       "      <td>2.0</td>\n",
       "      <td>0</td>\n",
       "      <td>0.0</td>\n",
       "      <td>1.0</td>\n",
       "      <td>3</td>\n",
       "      <td>3</td>\n",
       "      <td>Normal_Weight</td>\n",
       "    </tr>\n",
       "    <tr>\n",
       "      <th>1</th>\n",
       "      <td>0</td>\n",
       "      <td>21.0</td>\n",
       "      <td>1.52</td>\n",
       "      <td>56.0</td>\n",
       "      <td>1</td>\n",
       "      <td>0</td>\n",
       "      <td>3.0</td>\n",
       "      <td>3.0</td>\n",
       "      <td>2</td>\n",
       "      <td>1</td>\n",
       "      <td>3.0</td>\n",
       "      <td>1</td>\n",
       "      <td>3.0</td>\n",
       "      <td>0.0</td>\n",
       "      <td>2</td>\n",
       "      <td>3</td>\n",
       "      <td>Normal_Weight</td>\n",
       "    </tr>\n",
       "    <tr>\n",
       "      <th>2</th>\n",
       "      <td>1</td>\n",
       "      <td>23.0</td>\n",
       "      <td>1.80</td>\n",
       "      <td>77.0</td>\n",
       "      <td>1</td>\n",
       "      <td>0</td>\n",
       "      <td>2.0</td>\n",
       "      <td>3.0</td>\n",
       "      <td>2</td>\n",
       "      <td>0</td>\n",
       "      <td>2.0</td>\n",
       "      <td>0</td>\n",
       "      <td>2.0</td>\n",
       "      <td>1.0</td>\n",
       "      <td>1</td>\n",
       "      <td>3</td>\n",
       "      <td>Normal_Weight</td>\n",
       "    </tr>\n",
       "  </tbody>\n",
       "</table>\n",
       "</div>"
      ],
      "text/plain": [
       "   Gender   Age  Height  Weight  family_history_with_overweight  FAVC  FCVC  \\\n",
       "0       0  21.0    1.62    64.0                               1     0   2.0   \n",
       "1       0  21.0    1.52    56.0                               1     0   3.0   \n",
       "2       1  23.0    1.80    77.0                               1     0   2.0   \n",
       "\n",
       "   NCP  CAEC  SMOKE  CH2O  SCC  FAF  TUE  CALC  MTRANS     NObeyesdad  \n",
       "0  3.0     2      0   2.0    0  0.0  1.0     3       3  Normal_Weight  \n",
       "1  3.0     2      1   3.0    1  3.0  0.0     2       3  Normal_Weight  \n",
       "2  3.0     2      0   2.0    0  2.0  1.0     1       3  Normal_Weight  "
      ]
     },
     "execution_count": 5,
     "metadata": {},
     "output_type": "execute_result"
    }
   ],
   "source": [
    "og_obesity_encoded.head(3)"
   ]
  },
  {
   "cell_type": "code",
   "execution_count": 6,
   "id": "052c1914",
   "metadata": {},
   "outputs": [
    {
     "data": {
      "text/html": [
       "<div>\n",
       "<style scoped>\n",
       "    .dataframe tbody tr th:only-of-type {\n",
       "        vertical-align: middle;\n",
       "    }\n",
       "\n",
       "    .dataframe tbody tr th {\n",
       "        vertical-align: top;\n",
       "    }\n",
       "\n",
       "    .dataframe thead th {\n",
       "        text-align: right;\n",
       "    }\n",
       "</style>\n",
       "<table border=\"1\" class=\"dataframe\">\n",
       "  <thead>\n",
       "    <tr style=\"text-align: right;\">\n",
       "      <th></th>\n",
       "      <th>id</th>\n",
       "      <th>Gender</th>\n",
       "      <th>Age</th>\n",
       "      <th>Height</th>\n",
       "      <th>Weight</th>\n",
       "      <th>family_history_with_overweight</th>\n",
       "      <th>FAVC</th>\n",
       "      <th>FCVC</th>\n",
       "      <th>NCP</th>\n",
       "      <th>CAEC</th>\n",
       "      <th>SMOKE</th>\n",
       "      <th>CH2O</th>\n",
       "      <th>SCC</th>\n",
       "      <th>FAF</th>\n",
       "      <th>TUE</th>\n",
       "      <th>CALC</th>\n",
       "      <th>MTRANS</th>\n",
       "      <th>NObeyesdad</th>\n",
       "    </tr>\n",
       "  </thead>\n",
       "  <tbody>\n",
       "    <tr>\n",
       "      <th>0</th>\n",
       "      <td>0</td>\n",
       "      <td>1</td>\n",
       "      <td>24.443011</td>\n",
       "      <td>1.699998</td>\n",
       "      <td>81.669950</td>\n",
       "      <td>1</td>\n",
       "      <td>1</td>\n",
       "      <td>2.000000</td>\n",
       "      <td>2.983297</td>\n",
       "      <td>2</td>\n",
       "      <td>0</td>\n",
       "      <td>2.763573</td>\n",
       "      <td>0</td>\n",
       "      <td>0.000000</td>\n",
       "      <td>0.976473</td>\n",
       "      <td>1</td>\n",
       "      <td>3</td>\n",
       "      <td>Overweight_Level_II</td>\n",
       "    </tr>\n",
       "    <tr>\n",
       "      <th>1</th>\n",
       "      <td>1</td>\n",
       "      <td>0</td>\n",
       "      <td>18.000000</td>\n",
       "      <td>1.560000</td>\n",
       "      <td>57.000000</td>\n",
       "      <td>1</td>\n",
       "      <td>1</td>\n",
       "      <td>2.000000</td>\n",
       "      <td>3.000000</td>\n",
       "      <td>1</td>\n",
       "      <td>0</td>\n",
       "      <td>2.000000</td>\n",
       "      <td>0</td>\n",
       "      <td>1.000000</td>\n",
       "      <td>1.000000</td>\n",
       "      <td>2</td>\n",
       "      <td>0</td>\n",
       "      <td>Normal_Weight</td>\n",
       "    </tr>\n",
       "    <tr>\n",
       "      <th>2</th>\n",
       "      <td>2</td>\n",
       "      <td>0</td>\n",
       "      <td>18.000000</td>\n",
       "      <td>1.711460</td>\n",
       "      <td>50.165754</td>\n",
       "      <td>1</td>\n",
       "      <td>1</td>\n",
       "      <td>1.880534</td>\n",
       "      <td>1.411685</td>\n",
       "      <td>2</td>\n",
       "      <td>0</td>\n",
       "      <td>1.910378</td>\n",
       "      <td>0</td>\n",
       "      <td>0.866045</td>\n",
       "      <td>1.673584</td>\n",
       "      <td>2</td>\n",
       "      <td>3</td>\n",
       "      <td>Insufficient_Weight</td>\n",
       "    </tr>\n",
       "  </tbody>\n",
       "</table>\n",
       "</div>"
      ],
      "text/plain": [
       "   id  Gender        Age    Height     Weight  family_history_with_overweight  \\\n",
       "0   0       1  24.443011  1.699998  81.669950                               1   \n",
       "1   1       0  18.000000  1.560000  57.000000                               1   \n",
       "2   2       0  18.000000  1.711460  50.165754                               1   \n",
       "\n",
       "   FAVC      FCVC       NCP  CAEC  SMOKE      CH2O  SCC       FAF       TUE  \\\n",
       "0     1  2.000000  2.983297     2      0  2.763573    0  0.000000  0.976473   \n",
       "1     1  2.000000  3.000000     1      0  2.000000    0  1.000000  1.000000   \n",
       "2     1  1.880534  1.411685     2      0  1.910378    0  0.866045  1.673584   \n",
       "\n",
       "   CALC  MTRANS           NObeyesdad  \n",
       "0     1       3  Overweight_Level_II  \n",
       "1     2       0        Normal_Weight  \n",
       "2     2       3  Insufficient_Weight  "
      ]
     },
     "execution_count": 6,
     "metadata": {},
     "output_type": "execute_result"
    }
   ],
   "source": [
    "train_dlm_encoded.head(3)"
   ]
  },
  {
   "cell_type": "code",
   "execution_count": 7,
   "id": "72fe8d80",
   "metadata": {},
   "outputs": [
    {
     "data": {
      "text/html": [
       "<div>\n",
       "<style scoped>\n",
       "    .dataframe tbody tr th:only-of-type {\n",
       "        vertical-align: middle;\n",
       "    }\n",
       "\n",
       "    .dataframe tbody tr th {\n",
       "        vertical-align: top;\n",
       "    }\n",
       "\n",
       "    .dataframe thead th {\n",
       "        text-align: right;\n",
       "    }\n",
       "</style>\n",
       "<table border=\"1\" class=\"dataframe\">\n",
       "  <thead>\n",
       "    <tr style=\"text-align: right;\">\n",
       "      <th></th>\n",
       "      <th>id</th>\n",
       "      <th>Gender</th>\n",
       "      <th>Age</th>\n",
       "      <th>Height</th>\n",
       "      <th>Weight</th>\n",
       "      <th>family_history_with_overweight</th>\n",
       "      <th>FAVC</th>\n",
       "      <th>FCVC</th>\n",
       "      <th>NCP</th>\n",
       "      <th>CAEC</th>\n",
       "      <th>SMOKE</th>\n",
       "      <th>CH2O</th>\n",
       "      <th>SCC</th>\n",
       "      <th>FAF</th>\n",
       "      <th>TUE</th>\n",
       "      <th>CALC</th>\n",
       "      <th>MTRANS</th>\n",
       "    </tr>\n",
       "  </thead>\n",
       "  <tbody>\n",
       "    <tr>\n",
       "      <th>0</th>\n",
       "      <td>20758</td>\n",
       "      <td>1</td>\n",
       "      <td>26.899886</td>\n",
       "      <td>1.848294</td>\n",
       "      <td>120.644178</td>\n",
       "      <td>1</td>\n",
       "      <td>1</td>\n",
       "      <td>2.938616</td>\n",
       "      <td>3.0</td>\n",
       "      <td>2</td>\n",
       "      <td>0</td>\n",
       "      <td>2.825629</td>\n",
       "      <td>0</td>\n",
       "      <td>0.8554</td>\n",
       "      <td>0.000000</td>\n",
       "      <td>2</td>\n",
       "      <td>3</td>\n",
       "    </tr>\n",
       "    <tr>\n",
       "      <th>1</th>\n",
       "      <td>20759</td>\n",
       "      <td>0</td>\n",
       "      <td>21.000000</td>\n",
       "      <td>1.600000</td>\n",
       "      <td>66.000000</td>\n",
       "      <td>1</td>\n",
       "      <td>1</td>\n",
       "      <td>2.000000</td>\n",
       "      <td>1.0</td>\n",
       "      <td>2</td>\n",
       "      <td>0</td>\n",
       "      <td>3.000000</td>\n",
       "      <td>0</td>\n",
       "      <td>1.0000</td>\n",
       "      <td>0.000000</td>\n",
       "      <td>2</td>\n",
       "      <td>3</td>\n",
       "    </tr>\n",
       "    <tr>\n",
       "      <th>2</th>\n",
       "      <td>20760</td>\n",
       "      <td>0</td>\n",
       "      <td>26.000000</td>\n",
       "      <td>1.643355</td>\n",
       "      <td>111.600553</td>\n",
       "      <td>1</td>\n",
       "      <td>1</td>\n",
       "      <td>3.000000</td>\n",
       "      <td>3.0</td>\n",
       "      <td>2</td>\n",
       "      <td>0</td>\n",
       "      <td>2.621877</td>\n",
       "      <td>0</td>\n",
       "      <td>0.0000</td>\n",
       "      <td>0.250502</td>\n",
       "      <td>2</td>\n",
       "      <td>3</td>\n",
       "    </tr>\n",
       "  </tbody>\n",
       "</table>\n",
       "</div>"
      ],
      "text/plain": [
       "      id  Gender        Age    Height      Weight  \\\n",
       "0  20758       1  26.899886  1.848294  120.644178   \n",
       "1  20759       0  21.000000  1.600000   66.000000   \n",
       "2  20760       0  26.000000  1.643355  111.600553   \n",
       "\n",
       "   family_history_with_overweight  FAVC      FCVC  NCP  CAEC  SMOKE      CH2O  \\\n",
       "0                               1     1  2.938616  3.0     2      0  2.825629   \n",
       "1                               1     1  2.000000  1.0     2      0  3.000000   \n",
       "2                               1     1  3.000000  3.0     2      0  2.621877   \n",
       "\n",
       "   SCC     FAF       TUE  CALC  MTRANS  \n",
       "0    0  0.8554  0.000000     2       3  \n",
       "1    0  1.0000  0.000000     2       3  \n",
       "2    0  0.0000  0.250502     2       3  "
      ]
     },
     "execution_count": 7,
     "metadata": {},
     "output_type": "execute_result"
    }
   ],
   "source": [
    "test_data_encoded.head(3)"
   ]
  },
  {
   "cell_type": "markdown",
   "id": "cc96ed33",
   "metadata": {},
   "source": [
    "<h2>Random Forest Classifier</h2>\n",
    "<br>\n",
    "<b>Using original data</b>"
   ]
  },
  {
   "cell_type": "code",
   "execution_count": 8,
   "id": "4926c3c0",
   "metadata": {},
   "outputs": [],
   "source": [
    "X = og_obesity_encoded.drop(columns = ['NObeyesdad'])\n",
    "y = og_obesity_encoded['NObeyesdad']"
   ]
  },
  {
   "cell_type": "code",
   "execution_count": 9,
   "id": "d76a8ab9",
   "metadata": {},
   "outputs": [
    {
     "data": {
      "text/plain": [
       "NObeyesdad\n",
       "Obesity_Type_I         351\n",
       "Obesity_Type_III       324\n",
       "Obesity_Type_II        297\n",
       "Overweight_Level_I     290\n",
       "Overweight_Level_II    290\n",
       "Normal_Weight          287\n",
       "Insufficient_Weight    272\n",
       "Name: count, dtype: int64"
      ]
     },
     "execution_count": 9,
     "metadata": {},
     "output_type": "execute_result"
    }
   ],
   "source": [
    "y.value_counts()"
   ]
  },
  {
   "cell_type": "code",
   "execution_count": 10,
   "id": "00c4828c",
   "metadata": {},
   "outputs": [],
   "source": [
    "X_train, X_test, y_train, y_test = train_test_split(X, y, test_size=0.2, random_state=42)"
   ]
  },
  {
   "cell_type": "code",
   "execution_count": 11,
   "id": "ac5a7939",
   "metadata": {},
   "outputs": [
    {
     "data": {
      "text/plain": [
       "RandomForestClassifier(max_depth=5, n_estimators=95, random_state=42)"
      ]
     },
     "execution_count": 11,
     "metadata": {},
     "output_type": "execute_result"
    }
   ],
   "source": [
    "rf_model = RandomForestClassifier(n_estimators=95, max_depth=5, random_state=42)\n",
    "rf_model.fit(X_train, y_train)"
   ]
  },
  {
   "cell_type": "code",
   "execution_count": 12,
   "id": "8acd6172",
   "metadata": {},
   "outputs": [],
   "source": [
    "y_pred = rf_model.predict(X_test)"
   ]
  },
  {
   "cell_type": "code",
   "execution_count": 13,
   "id": "cda378f8",
   "metadata": {},
   "outputs": [
    {
     "data": {
      "text/plain": [
       "0.8652482269503546"
      ]
     },
     "execution_count": 13,
     "metadata": {},
     "output_type": "execute_result"
    }
   ],
   "source": [
    "accuracy = accuracy_score(y_test, y_pred)\n",
    "print(f\"accuracy (RF): {accuracy}\")"
   ]
  },
  {
   "cell_type": "code",
   "execution_count": 14,
   "id": "51105f80",
   "metadata": {},
   "outputs": [
    {
     "data": {
      "text/plain": [
       "<Axes: >"
      ]
     },
     "execution_count": 14,
     "metadata": {},
     "output_type": "execute_result"
    },
    {
     "data": {
      "image/png": "[encoded data removed]",
      "text/plain": [
       "<Figure size 432x288 with 2 Axes>"
      ]
     },
     "metadata": {
      "needs_background": "light"
     },
     "output_type": "display_data"
    }
   ],
   "source": [
    "conf_matrix = confusion_matrix(y_test, y_pred)\n",
    "sns.heatmap(conf_matrix, annot=True, fmt='g', cmap='coolwarm')"
   ]
  },
  {
   "cell_type": "markdown",
   "id": "5d70cf52",
   "metadata": {},
   "source": [
    "<b>Using deep learning data</b>"
   ]
  },
  {
   "cell_type": "code",
   "execution_count": 15,
   "id": "bcf6e3e1",
   "metadata": {},
   "outputs": [],
   "source": [
    "X1 = train_dlm_encoded.drop(columns = ['NObeyesdad'])\n",
    "y1 = train_dlm_encoded['NObeyesdad']"
   ]
  },
  {
   "cell_type": "code",
   "execution_count": 43,
   "id": "9bb2f88c",
   "metadata": {},
   "outputs": [
    {
     "data": {
      "text/html": [
       "<div>\n",
       "<style scoped>\n",
       "    .dataframe tbody tr th:only-of-type {\n",
       "        vertical-align: middle;\n",
       "    }\n",
       "\n",
       "    .dataframe tbody tr th {\n",
       "        vertical-align: top;\n",
       "    }\n",
       "\n",
       "    .dataframe thead th {\n",
       "        text-align: right;\n",
       "    }\n",
       "</style>\n",
       "<table border=\"1\" class=\"dataframe\">\n",
       "  <thead>\n",
       "    <tr style=\"text-align: right;\">\n",
       "      <th></th>\n",
       "      <th>id</th>\n",
       "      <th>Gender</th>\n",
       "      <th>Age</th>\n",
       "      <th>Height</th>\n",
       "      <th>Weight</th>\n",
       "      <th>family_history_with_overweight</th>\n",
       "      <th>FAVC</th>\n",
       "      <th>FCVC</th>\n",
       "      <th>NCP</th>\n",
       "      <th>CAEC</th>\n",
       "      <th>SMOKE</th>\n",
       "      <th>CH2O</th>\n",
       "      <th>SCC</th>\n",
       "      <th>FAF</th>\n",
       "      <th>TUE</th>\n",
       "      <th>CALC</th>\n",
       "      <th>MTRANS</th>\n",
       "    </tr>\n",
       "  </thead>\n",
       "  <tbody>\n",
       "    <tr>\n",
       "      <th>0</th>\n",
       "      <td>0</td>\n",
       "      <td>1</td>\n",
       "      <td>24.443011</td>\n",
       "      <td>1.699998</td>\n",
       "      <td>81.669950</td>\n",
       "      <td>1</td>\n",
       "      <td>1</td>\n",
       "      <td>2.000000</td>\n",
       "      <td>2.983297</td>\n",
       "      <td>2</td>\n",
       "      <td>0</td>\n",
       "      <td>2.763573</td>\n",
       "      <td>0</td>\n",
       "      <td>0.000000</td>\n",
       "      <td>0.976473</td>\n",
       "      <td>1</td>\n",
       "      <td>3</td>\n",
       "    </tr>\n",
       "    <tr>\n",
       "      <th>1</th>\n",
       "      <td>1</td>\n",
       "      <td>0</td>\n",
       "      <td>18.000000</td>\n",
       "      <td>1.560000</td>\n",
       "      <td>57.000000</td>\n",
       "      <td>1</td>\n",
       "      <td>1</td>\n",
       "      <td>2.000000</td>\n",
       "      <td>3.000000</td>\n",
       "      <td>1</td>\n",
       "      <td>0</td>\n",
       "      <td>2.000000</td>\n",
       "      <td>0</td>\n",
       "      <td>1.000000</td>\n",
       "      <td>1.000000</td>\n",
       "      <td>2</td>\n",
       "      <td>0</td>\n",
       "    </tr>\n",
       "    <tr>\n",
       "      <th>2</th>\n",
       "      <td>2</td>\n",
       "      <td>0</td>\n",
       "      <td>18.000000</td>\n",
       "      <td>1.711460</td>\n",
       "      <td>50.165754</td>\n",
       "      <td>1</td>\n",
       "      <td>1</td>\n",
       "      <td>1.880534</td>\n",
       "      <td>1.411685</td>\n",
       "      <td>2</td>\n",
       "      <td>0</td>\n",
       "      <td>1.910378</td>\n",
       "      <td>0</td>\n",
       "      <td>0.866045</td>\n",
       "      <td>1.673584</td>\n",
       "      <td>2</td>\n",
       "      <td>3</td>\n",
       "    </tr>\n",
       "  </tbody>\n",
       "</table>\n",
       "</div>"
      ],
      "text/plain": [
       "   id  Gender        Age    Height     Weight  family_history_with_overweight  \\\n",
       "0   0       1  24.443011  1.699998  81.669950                               1   \n",
       "1   1       0  18.000000  1.560000  57.000000                               1   \n",
       "2   2       0  18.000000  1.711460  50.165754                               1   \n",
       "\n",
       "   FAVC      FCVC       NCP  CAEC  SMOKE      CH2O  SCC       FAF       TUE  \\\n",
       "0     1  2.000000  2.983297     2      0  2.763573    0  0.000000  0.976473   \n",
       "1     1  2.000000  3.000000     1      0  2.000000    0  1.000000  1.000000   \n",
       "2     1  1.880534  1.411685     2      0  1.910378    0  0.866045  1.673584   \n",
       "\n",
       "   CALC  MTRANS  \n",
       "0     1       3  \n",
       "1     2       0  \n",
       "2     2       3  "
      ]
     },
     "execution_count": 43,
     "metadata": {},
     "output_type": "execute_result"
    }
   ],
   "source": [
    "X1.head(3)"
   ]
  },
  {
   "cell_type": "code",
   "execution_count": 42,
   "id": "21e7599b",
   "metadata": {},
   "outputs": [
    {
     "data": {
      "text/plain": [
       "NObeyesdad\n",
       "Obesity_Type_III       4046\n",
       "Obesity_Type_II        3248\n",
       "Normal_Weight          3082\n",
       "Obesity_Type_I         2910\n",
       "Insufficient_Weight    2523\n",
       "Overweight_Level_II    2522\n",
       "Overweight_Level_I     2427\n",
       "Name: count, dtype: int64"
      ]
     },
     "execution_count": 42,
     "metadata": {},
     "output_type": "execute_result"
    }
   ],
   "source": [
    "y1.value_counts()"
   ]
  },
  {
   "cell_type": "code",
   "execution_count": 17,
   "id": "d2650d9b",
   "metadata": {},
   "outputs": [],
   "source": [
    "X_train1, X_test1, y_train1, y_test1 = train_test_split(X1, y1, test_size=0.2, random_state=42)"
   ]
  },
  {
   "cell_type": "code",
   "execution_count": 18,
   "id": "a22b7c27",
   "metadata": {},
   "outputs": [
    {
     "data": {
      "text/plain": [
       "RandomForestClassifier(max_depth=5, n_estimators=95, random_state=42)"
      ]
     },
     "execution_count": 18,
     "metadata": {},
     "output_type": "execute_result"
    }
   ],
   "source": [
    "rf_model_dl = RandomForestClassifier(n_estimators=95, max_depth=5, random_state=42)\n",
    "rf_model_dl.fit(X_train1, y_train1)"
   ]
  },
  {
   "cell_type": "code",
   "execution_count": 19,
   "id": "3d63888e",
   "metadata": {},
   "outputs": [],
   "source": [
    "y_pred_dl = rf_model_dl.predict(X_test1)"
   ]
  },
  {
   "cell_type": "code",
   "execution_count": 20,
   "id": "326ac4e1",
   "metadata": {},
   "outputs": [
    {
     "data": {
      "text/plain": [
       "0.8309248554913294"
      ]
     },
     "execution_count": 20,
     "metadata": {},
     "output_type": "execute_result"
    }
   ],
   "source": [
    "accuracy_dl = accuracy_score(y_test1, y_pred_dl)\n",
    "print(f\"Deep learning data accuracy (RF): {accuracy_dl}\")"
   ]
  },
  {
   "cell_type": "code",
   "execution_count": 21,
   "id": "cf85ee5d",
   "metadata": {},
   "outputs": [
    {
     "data": {
      "text/plain": [
       "<Axes: >"
      ]
     },
     "execution_count": 21,
     "metadata": {},
     "output_type": "execute_result"
    },
    {
     "data": {
      "image/png": "[encoded data removed]",
      "text/plain": [
       "<Figure size 432x288 with 2 Axes>"
      ]
     },
     "metadata": {
      "needs_background": "light"
     },
     "output_type": "display_data"
    }
   ],
   "source": [
    "conf_matrix_dl = confusion_matrix(y_test1, y_pred_dl)\n",
    "sns.heatmap(conf_matrix_dl, annot=True, fmt='g', cmap='Oranges')"
   ]
  },
  {
   "cell_type": "markdown",
   "id": "b1ea72a1",
   "metadata": {},
   "source": [
    "<h2>Xgboost</h2>\n",
    "<br>\n",
    "<b>Using original data</b>"
   ]
  },
  {
   "cell_type": "code",
   "execution_count": 22,
   "id": "4224f2c3",
   "metadata": {},
   "outputs": [],
   "source": [
    "#implementing XGBoost\n",
    "from xgboost import XGBClassifier"
   ]
  },
  {
   "cell_type": "code",
   "execution_count": 23,
   "id": "30351e5f",
   "metadata": {},
   "outputs": [],
   "source": [
    "X_xgboost = og_obesity_encoded.copy()"
   ]
  },
  {
   "cell_type": "code",
   "execution_count": 24,
   "id": "02373c90",
   "metadata": {},
   "outputs": [],
   "source": [
    "X_xgboost['NObeyesdad'] = label_encoder.fit_transform(X_xgboost['NObeyesdad'])\n",
    "y_xgboost = X_xgboost['NObeyesdad']\n",
    "X_xgboost.drop(columns = ['NObeyesdad'])\n",
    "xg_X_train, xg_X_test, xg_y_train, xg_y_test = train_test_split(X_xgboost, y_xgboost, test_size=0.25, random_state=42)"
   ]
  },
  {
   "cell_type": "code",
   "execution_count": 25,
   "id": "eaf61619",
   "metadata": {},
   "outputs": [
    {
     "data": {
      "text/plain": [
       "XGBClassifier(base_score=None, booster=None, callbacks=None,\n",
       "              colsample_bylevel=None, colsample_bynode=None,\n",
       "              colsample_bytree=None, early_stopping_rounds=None,\n",
       "              enable_categorical=False, eval_metric=None, feature_types=None,\n",
       "              gamma=None, gpu_id=None, grow_policy=None, importance_type=None,\n",
       "              interaction_constraints=None, learning_rate=1e-06, max_bin=None,\n",
       "              max_cat_threshold=None, max_cat_to_onehot=None,\n",
       "              max_delta_step=None, max_depth=1, max_leaves=None,\n",
       "              min_child_weight=None, missing=nan, monotone_constraints=None,\n",
       "              n_estimators=10, n_jobs=None, num_parallel_tree=None,\n",
       "              objective='multi:softprob', predictor=None, ...)"
      ]
     },
     "execution_count": 25,
     "metadata": {},
     "output_type": "execute_result"
    }
   ],
   "source": [
    "xgb_model = XGBClassifier(n_estimators=10, max_depth=1, learning_rate=0.000001)\n",
    "xgb_model.fit(xg_X_train, xg_y_train)"
   ]
  },
  {
   "cell_type": "code",
   "execution_count": 26,
   "id": "03402143",
   "metadata": {},
   "outputs": [
    {
     "name": "stdout",
     "output_type": "stream",
     "text": [
      "Accuracy: 0.89\n"
     ]
    }
   ],
   "source": [
    "xgboost_y_pred = xgb_model.predict(xg_X_test)\n",
    "xg_accuracy = accuracy_score(xg_y_test, xgboost_y_pred)\n",
    "print(f\"XGBoost Accuracy: {xg_accuracy:.2f}\")"
   ]
  },
  {
   "cell_type": "code",
   "execution_count": 27,
   "id": "5ade97ae",
   "metadata": {},
   "outputs": [
    {
     "data": {
      "text/plain": [
       "array([0.        , 0.        , 0.        , 0.24712978, 0.        ,\n",
       "       0.        , 0.31500888, 0.        , 0.        , 0.        ,\n",
       "       0.        , 0.        , 0.        , 0.        , 0.        ,\n",
       "       0.        , 0.4378614 ], dtype=float32)"
      ]
     },
     "execution_count": 27,
     "metadata": {},
     "output_type": "execute_result"
    }
   ],
   "source": [
    "xg_feature_importance = xgb_model.feature_importances_\n",
    "xg_feature_importance"
   ]
  },
  {
   "cell_type": "code",
   "execution_count": 28,
   "id": "8e763de1",
   "metadata": {},
   "outputs": [
    {
     "data": {
      "text/plain": [
       "<Axes: >"
      ]
     },
     "execution_count": 28,
     "metadata": {},
     "output_type": "execute_result"
    },
    {
     "data": {
      "image/png": "[encoded data removed]",
      "text/plain": [
       "<Figure size 432x288 with 2 Axes>"
      ]
     },
     "metadata": {
      "needs_background": "light"
     },
     "output_type": "display_data"
    }
   ],
   "source": [
    "xg_conf_matrix = confusion_matrix(xg_y_test, xgboost_y_pred)\n",
    "sns.heatmap(xg_conf_matrix, annot=True, fmt='g', cmap='autumn')"
   ]
  },
  {
   "cell_type": "markdown",
   "id": "6d0fedaa",
   "metadata": {},
   "source": [
    "<b>Using model data</b>"
   ]
  },
  {
   "cell_type": "code",
   "execution_count": 29,
   "id": "71cd3310",
   "metadata": {},
   "outputs": [],
   "source": [
    "X_xgboost_dl = train_dlm_encoded.copy()"
   ]
  },
  {
   "cell_type": "code",
   "execution_count": 30,
   "id": "08bf47d6",
   "metadata": {},
   "outputs": [],
   "source": [
    "X_xgboost_dl['NObeyesdad'] = label_encoder.fit_transform(X_xgboost_dl['NObeyesdad'])\n",
    "y_xgboost_dl = X_xgboost_dl['NObeyesdad']\n",
    "X_xgboost_dl.drop(columns = ['NObeyesdad'])\n",
    "xg_X_train1, xg_X_test1, xg_y_train1, xg_y_test1 = train_test_split(X_xgboost_dl, y_xgboost_dl, \n",
    "                                                                    test_size=0.25, random_state=42)"
   ]
  },
  {
   "cell_type": "code",
   "execution_count": 31,
   "id": "cfead16a",
   "metadata": {},
   "outputs": [
    {
     "data": {
      "text/plain": [
       "XGBClassifier(base_score=None, booster=None, callbacks=None,\n",
       "              colsample_bylevel=None, colsample_bynode=None,\n",
       "              colsample_bytree=None, early_stopping_rounds=None,\n",
       "              enable_categorical=False, eval_metric=None, feature_types=None,\n",
       "              gamma=None, gpu_id=None, grow_policy=None, importance_type=None,\n",
       "              interaction_constraints=None, learning_rate=1e-06, max_bin=None,\n",
       "              max_cat_threshold=None, max_cat_to_onehot=None,\n",
       "              max_delta_step=None, max_depth=1, max_leaves=None,\n",
       "              min_child_weight=None, missing=nan, monotone_constraints=None,\n",
       "              n_estimators=10, n_jobs=None, num_parallel_tree=None,\n",
       "              objective='multi:softprob', predictor=None, ...)"
      ]
     },
     "execution_count": 31,
     "metadata": {},
     "output_type": "execute_result"
    }
   ],
   "source": [
    "xgb_model_dl = XGBClassifier(n_estimators=10, max_depth=1, learning_rate=0.000001)\n",
    "xgb_model_dl.fit(xg_X_train1, xg_y_train1)"
   ]
  },
  {
   "cell_type": "code",
   "execution_count": 32,
   "id": "57541bbb",
   "metadata": {},
   "outputs": [
    {
     "name": "stdout",
     "output_type": "stream",
     "text": [
      "Accuracy: 0.88\n"
     ]
    }
   ],
   "source": [
    "xgboost_y_pred_dl = xgb_model_dl.predict(xg_X_test1)\n",
    "xg_accuracy_dl = accuracy_score(xg_y_test1, xgboost_y_pred_dl)\n",
    "print(f\"Deep Learning data Accuracy (XGBoost): {xg_accuracy_dl:.2f}\")"
   ]
  },
  {
   "cell_type": "code",
   "execution_count": 33,
   "id": "f738cab5",
   "metadata": {},
   "outputs": [
    {
     "data": {
      "text/plain": [
       "<Axes: >"
      ]
     },
     "execution_count": 33,
     "metadata": {},
     "output_type": "execute_result"
    },
    {
     "data": {
      "image/png": "[encoded data removed]",
      "text/plain": [
       "<Figure size 432x288 with 2 Axes>"
      ]
     },
     "metadata": {
      "needs_background": "light"
     },
     "output_type": "display_data"
    }
   ],
   "source": [
    "xg_conf_matrix_dl = confusion_matrix(xg_y_test1, xgboost_y_pred_dl)\n",
    "sns.heatmap(xg_conf_matrix_dl, annot=True, fmt='g', cmap='cividis')"
   ]
  },
  {
   "cell_type": "markdown",
   "id": "75396705",
   "metadata": {},
   "source": [
    "<h2>Neural Network</h2>"
   ]
  },
  {
   "cell_type": "code",
   "execution_count": null,
   "id": "0e12a17b",
   "metadata": {},
   "outputs": [],
   "source": []
  },
  {
   "cell_type": "code",
   "execution_count": null,
   "id": "d0818db5",
   "metadata": {},
   "outputs": [],
   "source": []
  },
  {
   "cell_type": "markdown",
   "id": "0f4fe473",
   "metadata": {},
   "source": [
    "<h2>Multilayer Perceptron</h2>"
   ]
  },
  {
   "cell_type": "code",
   "execution_count": 34,
   "id": "c24394f6",
   "metadata": {},
   "outputs": [],
   "source": [
    "from sklearn.neural_network import MLPClassifier"
   ]
  },
  {
   "cell_type": "code",
   "execution_count": 35,
   "id": "21bbbeac",
   "metadata": {},
   "outputs": [],
   "source": [
    "mlp_X_train = X_train.to_numpy()\n",
    "mlp_X_test = X_test.to_numpy()\n",
    "mlp_y_train = y_train.copy()\n",
    "mlp_y_test = y_test.copy()"
   ]
  },
  {
   "cell_type": "code",
   "execution_count": 36,
   "id": "36e49ec2",
   "metadata": {},
   "outputs": [],
   "source": [
    "from sklearn.preprocessing import StandardScaler  \n",
    "scaler = StandardScaler()  \n",
    "# Don't cheat - fit only on training data\n",
    "scaler.fit(mlp_X_train)  \n",
    "mlp_X_train = scaler.transform(mlp_X_train)  \n",
    "# apply same transformation to test data\n",
    "mlp_X_test = scaler.transform(mlp_X_test)"
   ]
  },
  {
   "cell_type": "code",
   "execution_count": 37,
   "id": "49f6fa41",
   "metadata": {},
   "outputs": [],
   "source": [
    "mlp = MLPClassifier(hidden_layer_sizes = (28,12), random_state = 42, learning_rate_init = 0.0038, alpha = 0.1, \n",
    "                    activation= 'relu', learning_rate = 'adaptive', solver = 'sgd', early_stopping = True, max_iter = 500)"
   ]
  },
  {
   "cell_type": "code",
   "execution_count": 38,
   "id": "48bc7e48",
   "metadata": {},
   "outputs": [
    {
     "data": {
      "text/plain": [
       "MLPClassifier(alpha=0.1, early_stopping=True, hidden_layer_sizes=(28, 12),\n",
       "              learning_rate='adaptive', learning_rate_init=0.0038, max_iter=500,\n",
       "              random_state=42, solver='sgd')"
      ]
     },
     "execution_count": 38,
     "metadata": {},
     "output_type": "execute_result"
    }
   ],
   "source": [
    "mlp.fit(mlp_X_train, mlp_y_train)"
   ]
  },
  {
   "cell_type": "code",
   "execution_count": 39,
   "id": "92accf81",
   "metadata": {},
   "outputs": [],
   "source": [
    "mlp_y_predict = mlp.predict(mlp_X_test)"
   ]
  },
  {
   "cell_type": "code",
   "execution_count": 40,
   "id": "416b0aa4",
   "metadata": {},
   "outputs": [
    {
     "name": "stdout",
     "output_type": "stream",
     "text": [
      "MLP Accuracy: 0.90\n"
     ]
    }
   ],
   "source": [
    "mlp_accuracy =  accuracy_score(mlp_y_test, mlp_y_predict)\n",
    "print(f\"MLP Accuracy: {mlp_accuracy:.2f}\")"
   ]
  },
  {
   "cell_type": "code",
   "execution_count": 41,
   "id": "936200d4",
   "metadata": {},
   "outputs": [
    {
     "data": {
      "text/plain": [
       "<Axes: >"
      ]
     },
     "execution_count": 41,
     "metadata": {},
     "output_type": "execute_result"
    },
    {
     "data": {
      "image/png": "[encoded data removed]",
      "text/plain": [
       "<Figure size 432x288 with 2 Axes>"
      ]
     },
     "metadata": {
      "needs_background": "light"
     },
     "output_type": "display_data"
    }
   ],
   "source": [
    "mlp_conf_matrix = confusion_matrix(mlp_y_test, mlp_y_predict)\n",
    "sns.heatmap(mlp_conf_matrix, annot=True, fmt='g', cmap='summer')"
   ]
  },
  {
   "cell_type": "markdown",
   "id": "f4e666e9",
   "metadata": {},
   "source": [
    "<b>Using deep learning data</b>"
   ]
  },
  {
   "cell_type": "code",
   "execution_count": 42,
   "id": "31d96a2d",
   "metadata": {},
   "outputs": [],
   "source": [
    "mlp_dl_X_train = X_train1.to_numpy()\n",
    "mlp_dl_X_test = X_test1.to_numpy()\n",
    "mlp_dl_y_train = y_train1.copy()\n",
    "mlp_dl_y_test = y_test1.copy()"
   ]
  },
  {
   "cell_type": "code",
   "execution_count": 43,
   "id": "b73c0df2",
   "metadata": {},
   "outputs": [],
   "source": [
    "scaler_dl = StandardScaler()  \n",
    "# Don't cheat - fit only on training data\n",
    "scaler_dl.fit(mlp_dl_X_train)  \n",
    "mlp_dl_X_train = scaler_dl.transform(mlp_dl_X_train)  \n",
    "# apply same transformation to test data\n",
    "mlp_dl_X_test = scaler_dl.transform(mlp_dl_X_test)"
   ]
  },
  {
   "cell_type": "code",
   "execution_count": 44,
   "id": "20b56129",
   "metadata": {},
   "outputs": [],
   "source": [
    "mlp_dl = MLPClassifier(hidden_layer_sizes = (28,12), random_state = 42, learning_rate_init = 0.0038, alpha = 0.1, \n",
    "                    activation= 'relu', learning_rate = 'adaptive', solver = 'sgd', early_stopping = True, max_iter = 500)"
   ]
  },
  {
   "cell_type": "code",
   "execution_count": 45,
   "id": "6f956c0d",
   "metadata": {},
   "outputs": [
    {
     "data": {
      "text/plain": [
       "MLPClassifier(alpha=0.1, early_stopping=True, hidden_layer_sizes=(28, 12),\n",
       "              learning_rate='adaptive', learning_rate_init=0.0038, max_iter=500,\n",
       "              random_state=42, solver='sgd')"
      ]
     },
     "execution_count": 45,
     "metadata": {},
     "output_type": "execute_result"
    }
   ],
   "source": [
    "mlp_dl.fit(mlp_dl_X_train, mlp_dl_y_train)"
   ]
  },
  {
   "cell_type": "code",
   "execution_count": 47,
   "id": "1147ee26",
   "metadata": {},
   "outputs": [],
   "source": [
    "mlp_dl_y_predict = mlp_dl.predict(mlp_dl_X_test)"
   ]
  },
  {
   "cell_type": "code",
   "execution_count": 48,
   "id": "83b3703f",
   "metadata": {},
   "outputs": [
    {
     "name": "stdout",
     "output_type": "stream",
     "text": [
      "MLP Accuracy: 0.86\n"
     ]
    }
   ],
   "source": [
    "mlp_dl_accuracy =  accuracy_score(mlp_dl_y_test, mlp_dl_y_predict)\n",
    "print(f\"Deep Learning MLP Accuracy: {mlp_dl_accuracy:.2f}\")"
   ]
  },
  {
   "cell_type": "code",
   "execution_count": 52,
   "id": "7972c4f2",
   "metadata": {},
   "outputs": [
    {
     "data": {
      "text/plain": [
       "<Axes: >"
      ]
     },
     "execution_count": 52,
     "metadata": {},
     "output_type": "execute_result"
    },
    {
     "data": {
      "image/png": "[encoded data removed]",
      "text/plain": [
       "<Figure size 432x288 with 2 Axes>"
      ]
     },
     "metadata": {
      "needs_background": "light"
     },
     "output_type": "display_data"
    }
   ],
   "source": [
    "mlp_dl_conf_matrix = confusion_matrix(mlp_dl_y_test, mlp_dl_y_predict)\n",
    "sns.heatmap(mlp_dl_conf_matrix, annot=True, fmt='g', cmap='plasma')"
   ]
  }
 ],
 "metadata": {
  "kernelspec": {
   "display_name": "Python 3 (ipykernel)",
   "language": "python",
   "name": "python3"
  },
  "language_info": {
   "codemirror_mode": {
    "name": "ipython",
    "version": 3
   },
   "file_extension": ".py",
   "mimetype": "text/x-python",
   "name": "python",
   "nbconvert_exporter": "python",
   "pygments_lexer": "ipython3",
   "version": "3.9.12"
  }
 },
 "nbformat": 4,
 "nbformat_minor": 5
}
