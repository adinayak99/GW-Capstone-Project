{
  "cells": [
    {
      "cell_type": "markdown",
      "metadata": {
        "id": "cMSn67px4ANI",
        "toc": true
      },
      "source": [
        "<h1>Table of Contents<span class=\"tocSkip\"></span></h1>\n",
        "<div class=\"toc\"><ul class=\"toc-item\"><li><span><a href=\"#Overview\" data-toc-modified-id=\"Overview-1\"><span class=\"toc-item-num\">1&nbsp;&nbsp;</span>Overview</a></span></li><li><span><a href=\"#Notebook-Configuration\" data-toc-modified-id=\"Notebook-Configuration-2\"><span class=\"toc-item-num\">2&nbsp;&nbsp;</span>Notebook Configuration</a></span><ul class=\"toc-item\"><li><span><a href=\"#Google-drive\" data-toc-modified-id=\"Google-drive-2.1\"><span class=\"toc-item-num\">2.1&nbsp;&nbsp;</span>Google drive</a></span></li><li><span><a href=\"#Warning\" data-toc-modified-id=\"Warning-2.2\"><span class=\"toc-item-num\">2.2&nbsp;&nbsp;</span>Warning</a></span></li><li><span><a href=\"#Matplotlib\" data-toc-modified-id=\"Matplotlib-2.3\"><span class=\"toc-item-num\">2.3&nbsp;&nbsp;</span>Matplotlib</a></span></li><li><span><a href=\"#TensorFlow\" data-toc-modified-id=\"TensorFlow-2.4\"><span class=\"toc-item-num\">2.4&nbsp;&nbsp;</span>TensorFlow</a></span></li><li><span><a href=\"#Random-seed\" data-toc-modified-id=\"Random-seed-2.5\"><span class=\"toc-item-num\">2.5&nbsp;&nbsp;</span>Random seed</a></span></li></ul></li><li><span><a href=\"#Data-Preprocessing\" data-toc-modified-id=\"Data-Preprocessing-3\"><span class=\"toc-item-num\">3&nbsp;&nbsp;</span>Data Preprocessing</a></span></li><li><span><a href=\"#Training\" data-toc-modified-id=\"Training-4\"><span class=\"toc-item-num\">4&nbsp;&nbsp;</span>Training</a></span></li><li><span><a href=\"#Testing\" data-toc-modified-id=\"Testing-5\"><span class=\"toc-item-num\">5&nbsp;&nbsp;</span>Testing</a></span></li></ul></div>"
      ]
    },
    {
      "cell_type": "markdown",
      "metadata": {
        "id": "42yc1zUrzlEh"
      },
      "source": [
        "<b>\n",
        "<p>\n",
        "<center>\n",
        "<font size='5'>\n",
        "Popular Machine Learning Methods: Idea, Practice and Math\n",
        "</font>\n",
        "</center>\n",
        "</p>\n",
        "\n",
        "<p>\n",
        "<center>\n",
        "<font size='4'>\n",
        "Part 3, Chapter 2, Section 4: Recurrent Neural Networks\n",
        "</font>\n",
        "</center>\n",
        "</p>\n",
        "    \n",
        "<p>\n",
        "<center>\n",
        "<font size='4'>\n",
        "Homework 6\n",
        "</font>\n",
        "</center>\n",
        "</p>\n",
        "\n",
        "<p>\n",
        "<center>\n",
        "<font size='3'>\n",
        "Data Science, Columbian College of Arts & Sciences, George Washington University\n",
        "</font>\n",
        "</center>\n",
        "</p>\n",
        "\n",
        "<p>\n",
        "<center>\n",
        "<font size='3'>\n",
        "Yuxiao Huang\n",
        "</font>\n",
        "</center>\n",
        "</p>\n",
        "</b>"
      ]
    },
    {
      "cell_type": "markdown",
      "metadata": {
        "id": "rT2SKHw2zlEi"
      },
      "source": [
        "# Overview"
      ]
    },
    {
      "cell_type": "markdown",
      "metadata": {
        "id": "asZWLrJKzlEj"
      },
      "source": [
        "- This notebook includes homework 6 for Recurrent Neural Networks (Part 3, Chapter 2, Section 4).\n",
        "- See the accompanied slides in our [github repository](https://github.com/yuxiaohuang/teaching/tree/master/gwu/machine_learning_I/spring_2023/slides/p3_deep_learning/p3_c2_supervised_learning/p3_c2_s4_recurrent_neural_networks).\n",
        "- Here we will work on TensorFlow Dataset [yelp_polarity_reviews](https://www.tensorflow.org/datasets/catalog/yelp_polarity_reviews).\n",
        "- The goal of this homework is tweaking the pipeline (including data preprocessing, building, compiling and training DNNs) implemented in [/p3 c2 s4 recurrent_neural_networks/case_study](https://github.com/yuxiaohuang/teaching/blob/master/gwu/machine_learning_I/spring_2023/code/p3_deep_learning/p3_c2_supervised_learning/p3_c2_s4_recurrent_neural_networks/case_study/case_study.ipynb) to make it work for the new dataset mentioned above.\n",
        "- Complete the missing parts indicated by # Implement me.\n",
        "- Particularly, the code should\n",
        "    - be bug-free (note that the output produced by your solution may not necessarily be the same as the provided output, due to version issues)\n",
        "    - be commented\n",
        "- **The baseline for this assignment is 0.90. As per the grading rubrics (section 15 of the syllabus), if the test score of your best model is lower than or the same as the baseline, you will only receive 80% of the full mark. See more details in the grading rubrics.**\n",
        "- Submit an ipynb file named homework_6.ipynb to [blackboard](https://blackboard.gwu.edu) folder /Assignments/Homework_6/."
      ]
    },
    {
      "cell_type": "markdown",
      "metadata": {
        "id": "WJ-IbZqAgILJ"
      },
      "source": [
        "# Notebook Configuration"
      ]
    },
    {
      "cell_type": "markdown",
      "metadata": {
        "id": "H3yB94KtgMHu"
      },
      "source": [
        "## Google drive"
      ]
    },
    {
      "cell_type": "code",
      "execution_count": 1,
      "metadata": {
        "colab": {
          "base_uri": "https://localhost:8080/"
        },
        "id": "jWmYBTOwgNs-",
        "outputId": "1a8aaddf-e09c-4a05-aa5a-bc69d33f85b2",
        "scrolled": true
      },
      "outputs": [
        {
          "output_type": "stream",
          "name": "stdout",
          "text": [
            "Mounted at /content/drive\n"
          ]
        }
      ],
      "source": [
        "from google.colab import drive\n",
        "import sys\n",
        "\n",
        "# Mount Google Drive\n",
        "drive.mount('/content/drive')\n",
        "\n",
        "# Get the absolute path of the current folder\n",
        "abspath_curr = '/content/drive/My Drive/Colab Notebooks/teaching/gwu/machine_learning_I/homework/homework_6/'\n",
        "\n",
        "# Get the absolute path of the deep utilities folder\n",
        "abspath_util_deep = '/content/drive/My Drive/Colab Notebooks/teaching/gwu/machine_learning_I/code/utilities/p3_deep_learning/'"
      ]
    },
    {
      "cell_type": "markdown",
      "metadata": {
        "id": "bYZhU1Wqgmqx"
      },
      "source": [
        "## Warning"
      ]
    },
    {
      "cell_type": "code",
      "execution_count": 2,
      "metadata": {
        "id": "MUl4k83e4ANR"
      },
      "outputs": [],
      "source": [
        "import warnings\n",
        "\n",
        "# Ignore warnings\n",
        "warnings.filterwarnings('ignore')"
      ]
    },
    {
      "cell_type": "markdown",
      "metadata": {
        "id": "6WMODpPfgn2U"
      },
      "source": [
        "## Matplotlib"
      ]
    },
    {
      "cell_type": "code",
      "execution_count": 3,
      "metadata": {
        "id": "DBRVH9SB4ANb"
      },
      "outputs": [],
      "source": [
        "import matplotlib.pyplot as plt\n",
        "%matplotlib inline \n",
        "\n",
        "# Set matplotlib sizes\n",
        "plt.rc('font', size=20)\n",
        "plt.rc('axes', titlesize=20)\n",
        "plt.rc('axes', labelsize=20)\n",
        "plt.rc('xtick', labelsize=20)\n",
        "plt.rc('ytick', labelsize=20)\n",
        "plt.rc('legend', fontsize=20)\n",
        "plt.rc('figure', titlesize=20)"
      ]
    },
    {
      "cell_type": "markdown",
      "metadata": {
        "id": "n-wNDk5nZhhO"
      },
      "source": [
        "## TensorFlow"
      ]
    },
    {
      "cell_type": "code",
      "execution_count": 4,
      "metadata": {
        "id": "LjG43tEnZkfE",
        "colab": {
          "base_uri": "https://localhost:8080/"
        },
        "outputId": "70a2ffe9-9bdf-450d-e6a0-b9c362d02800"
      },
      "outputs": [
        {
          "output_type": "stream",
          "name": "stdout",
          "text": [
            "Colab only includes TensorFlow 2.x; %tensorflow_version has no effect.\n"
          ]
        }
      ],
      "source": [
        "# The magic below allows us to use tensorflow version 2.x\n",
        "%tensorflow_version 2.x \n",
        "import tensorflow_hub as hub\n",
        "import tensorflow as tf\n",
        "from tensorflow import keras"
      ]
    },
    {
      "cell_type": "markdown",
      "metadata": {
        "id": "40FN3UNfO2Z7"
      },
      "source": [
        "## Random seed"
      ]
    },
    {
      "cell_type": "code",
      "execution_count": 5,
      "metadata": {
        "id": "uSADk0hJP71d"
      },
      "outputs": [],
      "source": [
        "# The random seed\n",
        "random_seed = 42\n",
        "\n",
        "# Set random seed in tensorflow\n",
        "tf.random.set_seed(random_seed)\n",
        "\n",
        "# Set random seed in numpy\n",
        "import numpy as np\n",
        "np.random.seed(random_seed)"
      ]
    },
    {
      "cell_type": "markdown",
      "metadata": {
        "id": "1eOpQpPu4ANk"
      },
      "source": [
        "# Data Preprocessing"
      ]
    },
    {
      "cell_type": "code",
      "execution_count": 6,
      "metadata": {
        "colab": {
          "base_uri": "https://localhost:8080/"
        },
        "id": "D-Mwc6MczlFD",
        "outputId": "c2474795-691c-4c68-84c2-a5499d0aeb7a"
      },
      "outputs": [
        {
          "output_type": "stream",
          "name": "stdout",
          "text": [
            "/content/drive/My Drive/Colab Notebooks/teaching/gwu/machine_learning_I/code/utilities/p3_deep_learning\n"
          ]
        }
      ],
      "source": [
        "# Change working directory to the absolute path of the deep utilities folder\n",
        "%cd $abspath_util_deep\n",
        "\n",
        "# Import the deep utitilities\n",
        "%run pmlm_utilities_deep.ipynb"
      ]
    },
    {
      "cell_type": "markdown",
      "source": [
        "## **Loading data**\n",
        "In this case study, we will work on the IMDB-Reviews dataset."
      ],
      "metadata": {
        "id": "iD-ivQ1TNs_3"
      }
    },
    {
      "cell_type": "markdown",
      "source": [
        "## **Creating the directory for the data**"
      ],
      "metadata": {
        "id": "lcy1t8LrOSgu"
      }
    },
    {
      "cell_type": "code",
      "source": [
        "import os\n",
        "\n",
        "# Make directory\n",
        "directory = os.path.dirname(abspath_curr + 'data/')\n",
        "if not os.path.exists(directory):\n",
        "    os.makedirs(directory)"
      ],
      "metadata": {
        "id": "-DPLnHGXOU1V"
      },
      "execution_count": 7,
      "outputs": []
    },
    {
      "cell_type": "markdown",
      "source": [
        "## **Downloading data to the directory**"
      ],
      "metadata": {
        "id": "doYT3kjxOXQN"
      }
    },
    {
      "cell_type": "code",
      "source": [
        "import tensorflow_datasets as tfds\n",
        "\n",
        "# Get the name of the data\n",
        "data_name = \"yelp_polarity_reviews\"\n",
        "\n",
        "# Load data\n",
        "data, info = tfds.load(name=data_name,\n",
        "                       data_dir=abspath_curr + 'data/',\n",
        "                       as_supervised=True,\n",
        "                       with_info=True)"
      ],
      "metadata": {
        "id": "yEymEDYMNwxO"
      },
      "execution_count": 8,
      "outputs": []
    },
    {
      "cell_type": "markdown",
      "source": [
        "## **Getting the name of the target**"
      ],
      "metadata": {
        "id": "D62kPv0MOdl1"
      }
    },
    {
      "cell_type": "code",
      "execution_count": 9,
      "metadata": {
        "id": "d49AIfyIM4hi"
      },
      "outputs": [],
      "source": [
        "target = 'label'"
      ]
    },
    {
      "cell_type": "markdown",
      "source": [
        "## **Getting the info**"
      ],
      "metadata": {
        "id": "sTmG0ZGqOg9d"
      }
    },
    {
      "cell_type": "code",
      "source": [
        "# Print the splits\n",
        "info.splits"
      ],
      "metadata": {
        "id": "aS-wXvDYOjAk",
        "colab": {
          "base_uri": "https://localhost:8080/"
        },
        "outputId": "5dbafe93-2395-4a5d-b2c0-c2c1056d0530"
      },
      "execution_count": 10,
      "outputs": [
        {
          "output_type": "execute_result",
          "data": {
            "text/plain": [
              "{'train': <SplitInfo num_examples=560000, num_shards=4>,\n",
              " 'test': <SplitInfo num_examples=38000, num_shards=1>}"
            ]
          },
          "metadata": {},
          "execution_count": 10
        }
      ]
    },
    {
      "cell_type": "code",
      "source": [
        "# Get the classes\n",
        "classes = info.features['label'].names\n",
        "\n",
        "# Print the classes\n",
        "classes"
      ],
      "metadata": {
        "id": "IXAK49ExOme0",
        "colab": {
          "base_uri": "https://localhost:8080/"
        },
        "outputId": "a067583b-55ba-4075-f363-136d639e8bff"
      },
      "execution_count": 11,
      "outputs": [
        {
          "output_type": "execute_result",
          "data": {
            "text/plain": [
              "['1', '2']"
            ]
          },
          "metadata": {},
          "execution_count": 11
        }
      ]
    },
    {
      "cell_type": "code",
      "source": [
        "# Get the number of classes\n",
        "n_classes = info.features['label'].num_classes\n",
        "\n",
        "# Print the number of classes\n",
        "info.features['label'].num_classes"
      ],
      "metadata": {
        "id": "nyd33NddOnIW",
        "colab": {
          "base_uri": "https://localhost:8080/"
        },
        "outputId": "e17a53f8-936a-4c9f-bc8d-e05ee10a8749"
      },
      "execution_count": 12,
      "outputs": [
        {
          "output_type": "execute_result",
          "data": {
            "text/plain": [
              "2"
            ]
          },
          "metadata": {},
          "execution_count": 12
        }
      ]
    },
    {
      "cell_type": "markdown",
      "source": [
        "## **Getting the training, validation and test data**"
      ],
      "metadata": {
        "id": "usk12OMTOrL0"
      }
    },
    {
      "cell_type": "code",
      "source": [
        "# Set the training, validation and test split\n",
        "split_train, split_valid, split_test = 'train[:70%]', 'train[70%:]', 'test'\n",
        "\n",
        "# Get the training data\n",
        "data_train = tfds.load(name=data_name,\n",
        "                       split=split_train,\n",
        "                       data_dir=abspath_curr + '/data/',\n",
        "                       as_supervised=True)\n",
        "\n",
        "# Get the validation data\n",
        "data_valid = tfds.load(name=data_name,\n",
        "                       split=split_valid,\n",
        "                       data_dir=abspath_curr + '/data/',\n",
        "                       as_supervised=True)\n",
        "\n",
        "# Get the test data\n",
        "data_test = tfds.load(name=data_name,\n",
        "                      split=split_test,\n",
        "                      data_dir=abspath_curr + '/data/',\n",
        "                      as_supervised=True)"
      ],
      "metadata": {
        "id": "IwCGhY5kOsNF"
      },
      "execution_count": 13,
      "outputs": []
    },
    {
      "cell_type": "markdown",
      "source": [
        "## **Batching and prefetching the data**"
      ],
      "metadata": {
        "id": "52qVLgwPOuRk"
      }
    },
    {
      "cell_type": "code",
      "source": [
        "# Set the batch size\n",
        "batch_size = 16\n",
        "\n",
        "# Batch and prefetch the training data\n",
        "data_train = data_train.batch(batch_size).prefetch(1)\n",
        "\n",
        "# Batch and prefetch the validation data\n",
        "data_valid = data_valid.batch(batch_size).prefetch(1)\n",
        "\n",
        "# Batch and prefetch the testing data\n",
        "data_test = data_test.batch(batch_size).prefetch(1)"
      ],
      "metadata": {
        "id": "KFYCNuRkOved"
      },
      "execution_count": 14,
      "outputs": []
    },
    {
      "cell_type": "markdown",
      "metadata": {
        "id": "rMLlv9xK4AO9"
      },
      "source": [
        "## **Training**"
      ]
    },
    {
      "cell_type": "markdown",
      "source": [
        "\n",
        "## **Creating the directory for the model**"
      ],
      "metadata": {
        "id": "_9PmAnlYOzUs"
      }
    },
    {
      "cell_type": "code",
      "source": [
        "# Make directory\n",
        "directory = os.path.dirname(abspath_curr + '/result/model/')\n",
        "if not os.path.exists(directory):\n",
        "    os.makedirs(directory)"
      ],
      "metadata": {
        "id": "kj00CYTyO1Wc"
      },
      "execution_count": 15,
      "outputs": []
    },
    {
      "cell_type": "markdown",
      "source": [
        "## **Building the architecture of the model**"
      ],
      "metadata": {
        "id": "O2ZSb-4VO11U"
      }
    },
    {
      "cell_type": "code",
      "source": [
        "# Get the model\n",
        "model = keras.Sequential([hub.KerasLayer('https://tfhub.dev/google/tf2-preview/nnlm-en-dim50/1',\n",
        "                                         trainable=False,\n",
        "                                         dtype=tf.string,\n",
        "                                         input_shape=[],\n",
        "                                         output_shape=[50]),\n",
        "                          keras.layers.Dense(128, activation='relu'),\n",
        "                          keras.layers.Dense(1, activation='sigmoid')])\n",
        "\n",
        "# Get the model summary\n",
        "model.summary()"
      ],
      "metadata": {
        "id": "-B_nRzZPO188",
        "colab": {
          "base_uri": "https://localhost:8080/"
        },
        "outputId": "137c1a14-cd55-4fab-cbd9-b52217875869"
      },
      "execution_count": 16,
      "outputs": [
        {
          "output_type": "stream",
          "name": "stdout",
          "text": [
            "Model: \"sequential\"\n",
            "_________________________________________________________________\n",
            " Layer (type)                Output Shape              Param #   \n",
            "=================================================================\n",
            " keras_layer (KerasLayer)    (None, 50)                48190600  \n",
            "                                                                 \n",
            " dense (Dense)               (None, 128)               6528      \n",
            "                                                                 \n",
            " dense_1 (Dense)             (None, 1)                 129       \n",
            "                                                                 \n",
            "=================================================================\n",
            "Total params: 48,197,257\n",
            "Trainable params: 6,657\n",
            "Non-trainable params: 48,190,600\n",
            "_________________________________________________________________\n"
          ]
        }
      ]
    },
    {
      "cell_type": "markdown",
      "source": [
        "## **Freezing the pretrained layers**"
      ],
      "metadata": {
        "id": "opNfJvbTPOcT"
      }
    },
    {
      "cell_type": "code",
      "execution_count": 17,
      "metadata": {
        "id": "2pPwNxWaM4hi",
        "colab": {
          "base_uri": "https://localhost:8080/"
        },
        "outputId": "bf89e6e4-0fdb-4530-a623-b7601f13175d"
      },
      "outputs": [
        {
          "output_type": "stream",
          "name": "stdout",
          "text": [
            "Model: \"sequential\"\n",
            "_________________________________________________________________\n",
            " Layer (type)                Output Shape              Param #   \n",
            "=================================================================\n",
            " keras_layer (KerasLayer)    (None, 50)                48190600  \n",
            "                                                                 \n",
            " dense (Dense)               (None, 128)               6528      \n",
            "                                                                 \n",
            " dense_1 (Dense)             (None, 1)                 129       \n",
            "                                                                 \n",
            "=================================================================\n",
            "Total params: 48,197,257\n",
            "Trainable params: 6,657\n",
            "Non-trainable params: 48,190,600\n",
            "_________________________________________________________________\n"
          ]
        }
      ],
      "source": [
        "# Freeze the pretrained layers\n",
        "model.layers[0].trainable = False\n",
        "\n",
        "# Get the model summary\n",
        "model.summary()"
      ]
    },
    {
      "cell_type": "markdown",
      "source": [
        "## **Setting Callbacks**"
      ],
      "metadata": {
        "id": "6QtCp4uVPSDc"
      }
    },
    {
      "cell_type": "code",
      "source": [
        "# ModelCheckpoint callback\n",
        "model_checkpoint_cb = keras.callbacks.ModelCheckpoint(filepath=abspath_curr + '/result/model/model.h5',\n",
        "                                                      save_best_only=True,\n",
        "                                                      save_weights_only=True)\n",
        "\n",
        "# EarlyStopping callback\n",
        "early_stopping_cb = keras.callbacks.EarlyStopping(patience=5,\n",
        "                                                  restore_best_weights=True)\n",
        "\n",
        "# ReduceLROnPlateau callback\n",
        "reduce_lr_on_plateau_cb = keras.callbacks.ReduceLROnPlateau(factor=0.1,\n",
        "                                                            patience=5)"
      ],
      "metadata": {
        "id": "LXFQBzSbPT7j"
      },
      "execution_count": 18,
      "outputs": []
    },
    {
      "cell_type": "markdown",
      "source": [
        "## **Compiling the model**\n",
        "Here we use the default learning rate of Adam optimizer."
      ],
      "metadata": {
        "id": "txt1tMOVPWEM"
      }
    },
    {
      "cell_type": "code",
      "source": [
        "# Compile the model\n",
        "model.compile(optimizer=keras.optimizers.Adam(learning_rate=10 ** -2),\n",
        "              loss='binary_crossentropy',    \n",
        "              metrics=['accuracy'])"
      ],
      "metadata": {
        "id": "EzGnw8YnPX58"
      },
      "execution_count": 19,
      "outputs": []
    },
    {
      "cell_type": "markdown",
      "source": [
        "## **Training the model**"
      ],
      "metadata": {
        "id": "ZQfqatXrPYxj"
      }
    },
    {
      "cell_type": "code",
      "source": [
        "# Train, evaluate and save the best model\n",
        "history = model.fit(data_train,\n",
        "                    epochs=10,\n",
        "                    validation_data=data_valid,\n",
        "                    callbacks=[model_checkpoint_cb,\n",
        "                               early_stopping_cb,\n",
        "                               reduce_lr_on_plateau_cb])"
      ],
      "metadata": {
        "id": "Yv9dH2bYPbU9",
        "colab": {
          "base_uri": "https://localhost:8080/"
        },
        "outputId": "0ec7b73c-da70-46ec-bcd9-94c7b9dbf45a"
      },
      "execution_count": 20,
      "outputs": [
        {
          "output_type": "stream",
          "name": "stdout",
          "text": [
            "Epoch 1/10\n",
            "24500/24500 [==============================] - 201s 8ms/step - loss: 0.4486 - accuracy: 0.7875 - val_loss: 0.4408 - val_accuracy: 0.7928 - lr: 0.0100\n",
            "Epoch 2/10\n",
            "24500/24500 [==============================] - 182s 7ms/step - loss: 0.4394 - accuracy: 0.7933 - val_loss: 0.4390 - val_accuracy: 0.7938 - lr: 0.0100\n",
            "Epoch 3/10\n",
            "24500/24500 [==============================] - 182s 7ms/step - loss: 0.4375 - accuracy: 0.7945 - val_loss: 0.4366 - val_accuracy: 0.7955 - lr: 0.0100\n",
            "Epoch 4/10\n",
            "24500/24500 [==============================] - 184s 7ms/step - loss: 0.4365 - accuracy: 0.7952 - val_loss: 0.4347 - val_accuracy: 0.7952 - lr: 0.0100\n",
            "Epoch 5/10\n",
            "24500/24500 [==============================] - 182s 7ms/step - loss: 0.4358 - accuracy: 0.7952 - val_loss: 0.4352 - val_accuracy: 0.7951 - lr: 0.0100\n",
            "Epoch 6/10\n",
            "24500/24500 [==============================] - 177s 7ms/step - loss: 0.4352 - accuracy: 0.7960 - val_loss: 0.4367 - val_accuracy: 0.7948 - lr: 0.0100\n",
            "Epoch 7/10\n",
            "24500/24500 [==============================] - 171s 7ms/step - loss: 0.4347 - accuracy: 0.7958 - val_loss: 0.4372 - val_accuracy: 0.7951 - lr: 0.0100\n",
            "Epoch 8/10\n",
            "24500/24500 [==============================] - 171s 7ms/step - loss: 0.4344 - accuracy: 0.7960 - val_loss: 0.4381 - val_accuracy: 0.7952 - lr: 0.0100\n",
            "Epoch 9/10\n",
            "24500/24500 [==============================] - 167s 7ms/step - loss: 0.4340 - accuracy: 0.7961 - val_loss: 0.4390 - val_accuracy: 0.7951 - lr: 0.0100\n"
          ]
        }
      ]
    },
    {
      "cell_type": "markdown",
      "source": [
        "## **Plotting the learning curve**\n",
        "## **Creating the directory for the figure**"
      ],
      "metadata": {
        "id": "j7yaQZ8kPi2c"
      }
    },
    {
      "cell_type": "code",
      "source": [
        "# Make directory\n",
        "directory = os.path.dirname(abspath_curr + '/result/figure/')\n",
        "if not os.path.exists(directory):\n",
        "    os.makedirs(directory)"
      ],
      "metadata": {
        "id": "8lYLLG1rPmk7"
      },
      "execution_count": 21,
      "outputs": []
    },
    {
      "cell_type": "code",
      "source": [
        "import pandas as pd\n",
        "\n",
        "# Create a figure\n",
        "pd.DataFrame(history.history).plot(figsize=(8, 5))\n",
        "\n",
        "# Set grid\n",
        "plt.grid(True)\n",
        "\n",
        "# Save and show the figure\n",
        "plt.tight_layout()\n",
        "plt.savefig(abspath_curr + '/result/figure/learning_curve_before_unfreezing.pdf')\n",
        "plt.show()"
      ],
      "metadata": {
        "id": "8qrJYn2ZPnE7",
        "colab": {
          "base_uri": "https://localhost:8080/",
          "height": 477
        },
        "outputId": "ed643575-1297-42c2-dc7b-9fdc332f75b8"
      },
      "execution_count": 22,
      "outputs": [
        {
          "output_type": "display_data",
          "data": {
            "text/plain": [
              "<Figure size 800x500 with 1 Axes>"
            ],
            "image/png": "[encoded data removed]"
          },
          "metadata": {}
        }
      ]
    },
    {
      "cell_type": "markdown",
      "source": [
        "## **Unfreezing the pretrained layers**"
      ],
      "metadata": {
        "id": "zfRzF84hPpmM"
      }
    },
    {
      "cell_type": "code",
      "source": [
        "# Unfreeze the pretrained layers\n",
        "model.layers[0].trainable = True\n",
        "\n",
        "# Get the model summary\n",
        "model.summary()"
      ],
      "metadata": {
        "id": "GtT4FAV7PrNU",
        "colab": {
          "base_uri": "https://localhost:8080/"
        },
        "outputId": "40222287-f89f-433e-ba6b-5747b715ff75"
      },
      "execution_count": 23,
      "outputs": [
        {
          "output_type": "stream",
          "name": "stdout",
          "text": [
            "Model: \"sequential\"\n",
            "_________________________________________________________________\n",
            " Layer (type)                Output Shape              Param #   \n",
            "=================================================================\n",
            " keras_layer (KerasLayer)    (None, 50)                48190600  \n",
            "                                                                 \n",
            " dense (Dense)               (None, 128)               6528      \n",
            "                                                                 \n",
            " dense_1 (Dense)             (None, 1)                 129       \n",
            "                                                                 \n",
            "=================================================================\n",
            "Total params: 48,197,257\n",
            "Trainable params: 48,197,257\n",
            "Non-trainable params: 0\n",
            "_________________________________________________________________\n"
          ]
        }
      ]
    },
    {
      "cell_type": "markdown",
      "source": [
        "## **Compiling the model**\n",
        "Here we use a lower learning rate (by a factor of 10) of Adam optimizer, so that it is less likely to compromise the pretrained weights."
      ],
      "metadata": {
        "id": "-hCTfTX5Pz3r"
      }
    },
    {
      "cell_type": "code",
      "source": [
        "# Compile the model\n",
        "model.compile(optimizer=keras.optimizers.Adam(learning_rate=10 ** -3),\n",
        "              loss='binary_crossentropy',\n",
        "              metrics=['accuracy'])"
      ],
      "metadata": {
        "id": "1bPAeVpVP1lT"
      },
      "execution_count": 24,
      "outputs": []
    },
    {
      "cell_type": "markdown",
      "source": [
        "## **Training the model**"
      ],
      "metadata": {
        "id": "hGjjmOQrP2tT"
      }
    },
    {
      "cell_type": "code",
      "source": [
        "# Train, evaluate and save the best model\n",
        "history = model.fit(data_train,\n",
        "                    epochs=10,\n",
        "                    validation_data=data_valid,\n",
        "                    callbacks=[model_checkpoint_cb,\n",
        "                               early_stopping_cb,\n",
        "                               reduce_lr_on_plateau_cb])"
      ],
      "metadata": {
        "id": "qgtt-wacP4q7",
        "colab": {
          "base_uri": "https://localhost:8080/"
        },
        "outputId": "042dc3f4-048a-4f68-f3a3-ac0450ef339b"
      },
      "execution_count": 25,
      "outputs": [
        {
          "output_type": "stream",
          "name": "stdout",
          "text": [
            "Epoch 1/10\n",
            "24500/24500 [==============================] - 689s 28ms/step - loss: 0.2057 - accuracy: 0.9160 - val_loss: 0.1913 - val_accuracy: 0.9236 - lr: 0.0010\n",
            "Epoch 2/10\n",
            "24500/24500 [==============================] - 464s 19ms/step - loss: 0.1491 - accuracy: 0.9415 - val_loss: 0.2029 - val_accuracy: 0.9228 - lr: 0.0010\n",
            "Epoch 3/10\n",
            "24500/24500 [==============================] - 463s 19ms/step - loss: 0.1124 - accuracy: 0.9578 - val_loss: 0.2397 - val_accuracy: 0.9174 - lr: 0.0010\n",
            "Epoch 4/10\n",
            "24500/24500 [==============================] - 457s 19ms/step - loss: 0.0834 - accuracy: 0.9700 - val_loss: 0.2911 - val_accuracy: 0.9137 - lr: 0.0010\n",
            "Epoch 5/10\n",
            "24500/24500 [==============================] - 457s 19ms/step - loss: 0.0608 - accuracy: 0.9787 - val_loss: 0.3704 - val_accuracy: 0.9080 - lr: 0.0010\n",
            "Epoch 6/10\n",
            "24500/24500 [==============================] - 459s 19ms/step - loss: 0.0435 - accuracy: 0.9850 - val_loss: 0.4412 - val_accuracy: 0.9041 - lr: 0.0010\n"
          ]
        }
      ]
    },
    {
      "cell_type": "markdown",
      "source": [
        "## **Plotting the learning curve**\n"
      ],
      "metadata": {
        "id": "tzmZ2MauP7g7"
      }
    },
    {
      "cell_type": "code",
      "source": [
        "# Create a figure\n",
        "pd.DataFrame(history.history).plot(figsize=(8, 5))\n",
        "\n",
        "# Set grid\n",
        "plt.grid(True)\n",
        "\n",
        "# Save and show the figure\n",
        "plt.tight_layout()\n",
        "plt.savefig(abspath_curr + '/result/figure/learning_curve_after_unfreezing.pdf')\n",
        "plt.show()"
      ],
      "metadata": {
        "id": "KqlLZIHoP9RL",
        "colab": {
          "base_uri": "https://localhost:8080/",
          "height": 476
        },
        "outputId": "0b72a63e-dd10-4a61-c570-7d4664eb60b7"
      },
      "execution_count": 26,
      "outputs": [
        {
          "output_type": "display_data",
          "data": {
            "text/plain": [
              "<Figure size 800x500 with 1 Axes>"
            ],
            "image/png": "[encoded data removed]"
          },
          "metadata": {}
        }
      ]
    },
    {
      "cell_type": "markdown",
      "metadata": {
        "id": "RkGivY_MA6m1"
      },
      "source": [
        "## **Testing**"
      ]
    },
    {
      "cell_type": "markdown",
      "source": [
        "## **Loading the saved model**"
      ],
      "metadata": {
        "id": "Oq-6qdkhP_0b"
      }
    },
    {
      "cell_type": "code",
      "source": [
        "# Load the saved model\n",
        "model.load_weights(filepath=abspath_curr + '/result/model/model.h5')"
      ],
      "metadata": {
        "id": "bIc4ykVgQCBj"
      },
      "execution_count": 27,
      "outputs": []
    },
    {
      "cell_type": "markdown",
      "source": [
        "## **Evaluating the model**"
      ],
      "metadata": {
        "id": "LFk3APO2QBcr"
      }
    },
    {
      "cell_type": "code",
      "execution_count": 28,
      "metadata": {
        "id": "9ar86hVrM4hi",
        "colab": {
          "base_uri": "https://localhost:8080/"
        },
        "outputId": "9fae9800-7d38-4615-9625-2e695cccfb70"
      },
      "outputs": [
        {
          "output_type": "stream",
          "name": "stdout",
          "text": [
            "2375/2375 [==============================] - 15s 6ms/step - loss: 0.1848 - accuracy: 0.9263\n"
          ]
        }
      ],
      "source": [
        "loss, accuracy = model.evaluate(data_test)"
      ]
    },
    {
      "cell_type": "markdown",
      "source": [
        "## **Reference**\n",
        "The code for building, compiling and training RNNs were largely inspired by the following work:\n",
        "\n",
        "*   Géron, A., 2019. Hands-On Machine Learning with Scikit-Learn, Keras, and TensorFlow: Concepts, Tools, and Techniques to Build Intelligent Systems. O'Reilly Media.\n",
        "\n"
      ],
      "metadata": {
        "id": "fpTqn7P8QFYT"
      }
    }
  ],
  "metadata": {
    "accelerator": "GPU",
    "colab": {
      "provenance": []
    },
    "kernelspec": {
      "display_name": "Python 3 (ipykernel)",
      "language": "python",
      "name": "python3"
    },
    "language_info": {
      "codemirror_mode": {
        "name": "ipython",
        "version": 3
      },
      "file_extension": ".py",
      "mimetype": "text/x-python",
      "name": "python",
      "nbconvert_exporter": "python",
      "pygments_lexer": "ipython3",
      "version": "3.9.7"
    },
    "toc": {
      "base_numbering": 1,
      "nav_menu": {},
      "number_sections": true,
      "sideBar": true,
      "skip_h1_title": false,
      "title_cell": "Table of Contents",
      "title_sidebar": "Contents",
      "toc_cell": true,
      "toc_position": {},
      "toc_section_display": true,
      "toc_window_display": false
    }
  },
  "nbformat": 4,
  "nbformat_minor": 0
}