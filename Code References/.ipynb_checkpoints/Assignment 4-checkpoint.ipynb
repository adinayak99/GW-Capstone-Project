{
  "cells": [
    {
      "cell_type": "markdown",
      "metadata": {
        "id": "cMSn67px4ANI",
        "toc": true
      },
      "source": [
        "<h1>Table of Contents<span class=\"tocSkip\"></span></h1>\n",
        "<div class=\"toc\"><ul class=\"toc-item\"><li><span><a href=\"#Overview\" data-toc-modified-id=\"Overview-1\"><span class=\"toc-item-num\">1&nbsp;&nbsp;</span>Overview</a></span></li><li><span><a href=\"#Notebook-Configuration\" data-toc-modified-id=\"Notebook-Configuration-2\"><span class=\"toc-item-num\">2&nbsp;&nbsp;</span>Notebook Configuration</a></span><ul class=\"toc-item\"><li><span><a href=\"#Google-drive\" data-toc-modified-id=\"Google-drive-2.1\"><span class=\"toc-item-num\">2.1&nbsp;&nbsp;</span>Google drive</a></span></li><li><span><a href=\"#Warning\" data-toc-modified-id=\"Warning-2.2\"><span class=\"toc-item-num\">2.2&nbsp;&nbsp;</span>Warning</a></span></li><li><span><a href=\"#Matplotlib\" data-toc-modified-id=\"Matplotlib-2.3\"><span class=\"toc-item-num\">2.3&nbsp;&nbsp;</span>Matplotlib</a></span></li><li><span><a href=\"#TensorFlow\" data-toc-modified-id=\"TensorFlow-2.4\"><span class=\"toc-item-num\">2.4&nbsp;&nbsp;</span>TensorFlow</a></span></li><li><span><a href=\"#Random-seed\" data-toc-modified-id=\"Random-seed-2.5\"><span class=\"toc-item-num\">2.5&nbsp;&nbsp;</span>Random seed</a></span></li></ul></li><li><span><a href=\"#Data-Preprocessing\" data-toc-modified-id=\"Data-Preprocessing-3\"><span class=\"toc-item-num\">3&nbsp;&nbsp;</span>Data Preprocessing</a></span></li><li><span><a href=\"#Training\" data-toc-modified-id=\"Training-4\"><span class=\"toc-item-num\">4&nbsp;&nbsp;</span>Training</a></span></li><li><span><a href=\"#Testing-the-Best-Model\" data-toc-modified-id=\"Testing-the-Best-Model-5\"><span class=\"toc-item-num\">5&nbsp;&nbsp;</span>Testing the Best Model</a></span></li></ul></div>"
      ]
    },
    {
      "cell_type": "markdown",
      "metadata": {
        "id": "42yc1zUrzlEh"
      },
      "source": [
        "<b>\n",
        "<p>\n",
        "<center>\n",
        "<font size=\"5\">\n",
        "Popular Machine Learning Methods: Idea, Practice and Math\n",
        "</font>\n",
        "</center>\n",
        "</p>\n",
        "\n",
        "<p>\n",
        "<center>\n",
        "<font size=\"4\">\n",
        "Part 3, Chapter 2, Section 2: Training Deep Neural Networks\n",
        "</font>\n",
        "</center>\n",
        "</p>\n",
        "    \n",
        "<p>\n",
        "<center>\n",
        "<font size=\"4\">\n",
        "Homework 4\n",
        "</font>\n",
        "</center>\n",
        "</p>\n",
        "\n",
        "<p>\n",
        "<center>\n",
        "<font size=\"3\">\n",
        "Data Science, Columbian College of Arts & Sciences, George Washington University\n",
        "</font>\n",
        "</center>\n",
        "</p>\n",
        "\n",
        "<p>\n",
        "<center>\n",
        "<font size=\"3\">\n",
        "Yuxiao Huang\n",
        "</font>\n",
        "</center>\n",
        "</p>\n",
        "</b>"
      ]
    },
    {
      "cell_type": "markdown",
      "metadata": {
        "id": "rT2SKHw2zlEi"
      },
      "source": [
        "# Overview"
      ]
    },
    {
      "cell_type": "markdown",
      "metadata": {
        "id": "asZWLrJKzlEj"
      },
      "source": [
        "- This notebook includes homework 4 for Training Deep Neural Networks (Part 3, Chapter 2, Section 2).\n",
        "- See the accompanied slides in our [github repository](https://github.com/yuxiaohuang/teaching/tree/master/gwu/machine_learning_I/spring_2023/slides/p3_deep_learning/p3_c2_supervised_learning/p3_c2_s2_training_deep_neural_networks).\n",
        "- Here we will work on TensorFlow Dataset [cifar10](https://www.tensorflow.org/datasets/catalog/cifar10).\n",
        "- The goal of this homework is tweaking the pipeline (including data preprocessing, building, compiling and training DNNs) implemented in [/p3 c2 s2 training_deep_neural_networks/case_study](https://github.com/yuxiaohuang/teaching/blob/master/gwu/machine_learning_I/spring_2023/code/p3_deep_learning/p3_c2_supervised_learning/p3_c2_s2_training_deep_neural_networks/case_study/case_study.ipynb) to make it work for the new dataset mentioned above.\n",
        "- Complete the missing parts indicated by # Implement me.\n",
        "- Particularly, the code should\n",
        "    - be bug-free (note that the output produced by your solution may not necessarily be the same as the provided output, due to version issues)\n",
        "    - be commented\n",
        "- **The baseline for this assignment is 0.4871. As per the grading rubrics (section 15 of the syllabus), if the test score of your best model is lower than or the same as the baseline, you will only receive 80% of the full mark. See more details in the grading rubrics.**\n",
        "- Submit an ipynb file named homework_4.ipynb to [blackboard](https://blackboard.gwu.edu) folder /Assignments/Homework_4/."
      ]
    },
    {
      "cell_type": "markdown",
      "metadata": {
        "id": "WJ-IbZqAgILJ"
      },
      "source": [
        "# Notebook Configuration"
      ]
    },
    {
      "cell_type": "markdown",
      "metadata": {
        "id": "H3yB94KtgMHu"
      },
      "source": [
        "## Google drive"
      ]
    },
    {
      "cell_type": "code",
      "execution_count": 1,
      "metadata": {
        "colab": {
          "base_uri": "https://localhost:8080/"
        },
        "id": "jWmYBTOwgNs-",
        "outputId": "a65d2a72-3da6-4012-dcef-8bdfb4822715",
        "scrolled": true
      },
      "outputs": [
        {
          "output_type": "stream",
          "name": "stdout",
          "text": [
            "Mounted at /content/drive\n"
          ]
        }
      ],
      "source": [
        "from google.colab import drive\n",
        "import sys\n",
        "\n",
        "# Mount Google Drive\n",
        "drive.mount('/content/drive')\n",
        "\n",
        "# Get the absolute path of the current folder\n",
        "abspath_curr = '/content/drive/My Drive/Colab Notebooks/teaching/gwu/machine_learning_I/homework/homework_4/'\n",
        "\n",
        "# Get the absolute path of the deep utilities folder\n",
        "abspath_util_deep = '/content/drive/My Drive/Colab Notebooks/teaching/gwu/machine_learning_I/code/utilities/p3_deep_learning/'"
      ]
    },
    {
      "cell_type": "markdown",
      "metadata": {
        "id": "bYZhU1Wqgmqx"
      },
      "source": [
        "## Warning"
      ]
    },
    {
      "cell_type": "code",
      "execution_count": 2,
      "metadata": {
        "id": "MUl4k83e4ANR"
      },
      "outputs": [],
      "source": [
        "import warnings\n",
        "\n",
        "# Ignore warnings\n",
        "warnings.filterwarnings('ignore')"
      ]
    },
    {
      "cell_type": "markdown",
      "metadata": {
        "id": "6WMODpPfgn2U"
      },
      "source": [
        "## Matplotlib"
      ]
    },
    {
      "cell_type": "code",
      "execution_count": 3,
      "metadata": {
        "id": "DBRVH9SB4ANb"
      },
      "outputs": [],
      "source": [
        "import matplotlib.pyplot as plt\n",
        "%matplotlib inline \n",
        "\n",
        "# Set matplotlib sizes\n",
        "plt.rc('font', size=20)\n",
        "plt.rc('axes', titlesize=20)\n",
        "plt.rc('axes', labelsize=20)\n",
        "plt.rc('xtick', labelsize=20)\n",
        "plt.rc('ytick', labelsize=20)\n",
        "plt.rc('legend', fontsize=20)\n",
        "plt.rc('figure', titlesize=20)"
      ]
    },
    {
      "cell_type": "markdown",
      "metadata": {
        "id": "n-wNDk5nZhhO"
      },
      "source": [
        "## TensorFlow"
      ]
    },
    {
      "cell_type": "code",
      "execution_count": 4,
      "metadata": {
        "id": "LjG43tEnZkfE",
        "colab": {
          "base_uri": "https://localhost:8080/"
        },
        "outputId": "f04096a8-9466-4427-d1e4-4333e1aa6deb"
      },
      "outputs": [
        {
          "output_type": "stream",
          "name": "stdout",
          "text": [
            "Colab only includes TensorFlow 2.x; %tensorflow_version has no effect.\n"
          ]
        }
      ],
      "source": [
        "# The magic below allows us to use tensorflow version 2.x\n",
        "%tensorflow_version 2.x \n",
        "import tensorflow as tf\n",
        "from tensorflow import keras"
      ]
    },
    {
      "cell_type": "markdown",
      "metadata": {
        "id": "40FN3UNfO2Z7"
      },
      "source": [
        "## Random seed"
      ]
    },
    {
      "cell_type": "code",
      "execution_count": 5,
      "metadata": {
        "id": "uSADk0hJP71d"
      },
      "outputs": [],
      "source": [
        "# The random seed\n",
        "random_seed = 42\n",
        "\n",
        "# Set random seed in tensorflow\n",
        "tf.random.set_seed(random_seed)\n",
        "\n",
        "# Set random seed in numpy\n",
        "import numpy as np\n",
        "np.random.seed(random_seed)"
      ]
    },
    {
      "cell_type": "markdown",
      "metadata": {
        "id": "1eOpQpPu4ANk"
      },
      "source": [
        "# Data Preprocessing"
      ]
    },
    {
      "cell_type": "code",
      "execution_count": 6,
      "metadata": {
        "colab": {
          "base_uri": "https://localhost:8080/"
        },
        "id": "D-Mwc6MczlFD",
        "outputId": "e60cceb7-136d-4c01-d7b9-55e83a9db723"
      },
      "outputs": [
        {
          "output_type": "stream",
          "name": "stdout",
          "text": [
            "/content/drive/My Drive/Colab Notebooks/teaching/gwu/machine_learning_I/code/utilities/p3_deep_learning\n"
          ]
        }
      ],
      "source": [
        "# Change working directory to the absolute path of the deep utilities folder\n",
        "%cd $abspath_util_deep\n",
        "\n",
        "# Import the deep utitilities\n",
        "%run pmlm_utilities_deep.ipynb"
      ]
    },
    {
      "cell_type": "markdown",
      "source": [
        "# **Loading the data**\n",
        "In this code example, we will work on the CIFAR10 dataset."
      ],
      "metadata": {
        "id": "h1xRmLR5qwx7"
      }
    },
    {
      "cell_type": "markdown",
      "source": [
        "## **Creating the directory for the data**"
      ],
      "metadata": {
        "id": "oi6rsItZq4UD"
      }
    },
    {
      "cell_type": "code",
      "execution_count": 7,
      "metadata": {
        "id": "iNHmyvdOSeMn"
      },
      "outputs": [],
      "source": [
        "import os\n",
        "\n",
        "# Make directory\n",
        "directory = os.path.dirname(abspath_curr + '/data/')\n",
        "if not os.path.exists(directory):\n",
        "    os.makedirs(directory)"
      ]
    },
    {
      "cell_type": "markdown",
      "source": [
        "## **Downloading the data to the directory**"
      ],
      "metadata": {
        "id": "9Imf3JxZq8JL"
      }
    },
    {
      "cell_type": "code",
      "source": [
        "import tensorflow_datasets as tfds\n",
        "\n",
        "# Get the name of the data\n",
        "data_name = 'cifar10'\n",
        "\n",
        "# Load data\n",
        "data, info = tfds.load(name=data_name,\n",
        "                       data_dir=abspath_curr + '/data/',\n",
        "                       as_supervised=True,\n",
        "                       with_info=True)"
      ],
      "metadata": {
        "id": "TzX8BlSSpsgc"
      },
      "execution_count": 8,
      "outputs": []
    },
    {
      "cell_type": "markdown",
      "source": [
        "## **Getting the name of the target**"
      ],
      "metadata": {
        "id": "yaCc9_P1rAMO"
      }
    },
    {
      "cell_type": "code",
      "source": [
        "target = 'label'"
      ],
      "metadata": {
        "id": "JaOm7QjUqjgM"
      },
      "execution_count": 9,
      "outputs": []
    },
    {
      "cell_type": "markdown",
      "source": [
        "## **Getting the info**"
      ],
      "metadata": {
        "id": "e0SJ_VnvrDDj"
      }
    },
    {
      "cell_type": "code",
      "source": [
        "# Print the splits\n",
        "info.splits"
      ],
      "metadata": {
        "colab": {
          "base_uri": "https://localhost:8080/"
        },
        "id": "41035qb_rIXD",
        "outputId": "a81716f6-9861-47cf-e023-9196b6559b99"
      },
      "execution_count": 10,
      "outputs": [
        {
          "output_type": "execute_result",
          "data": {
            "text/plain": [
              "{'train': <SplitInfo num_examples=50000, num_shards=1>,\n",
              " 'test': <SplitInfo num_examples=10000, num_shards=1>}"
            ]
          },
          "metadata": {},
          "execution_count": 10
        }
      ]
    },
    {
      "cell_type": "code",
      "source": [
        "# Get the classes\n",
        "classes = info.features['label'].names\n",
        "\n",
        "# Print the classes\n",
        "classes"
      ],
      "metadata": {
        "colab": {
          "base_uri": "https://localhost:8080/"
        },
        "id": "WfkoC7K5rIfT",
        "outputId": "0da821be-96d4-4696-c398-93959fe3bc24"
      },
      "execution_count": 11,
      "outputs": [
        {
          "output_type": "execute_result",
          "data": {
            "text/plain": [
              "['airplane',\n",
              " 'automobile',\n",
              " 'bird',\n",
              " 'cat',\n",
              " 'deer',\n",
              " 'dog',\n",
              " 'frog',\n",
              " 'horse',\n",
              " 'ship',\n",
              " 'truck']"
            ]
          },
          "metadata": {},
          "execution_count": 11
        }
      ]
    },
    {
      "cell_type": "code",
      "source": [
        "# Get the number of classes\n",
        "n_classes = info.features['label'].num_classes\n",
        "\n",
        "# Print the number of classes\n",
        "info.features['label'].num_classes"
      ],
      "metadata": {
        "colab": {
          "base_uri": "https://localhost:8080/"
        },
        "id": "iLOXOtKsrIls",
        "outputId": "b1e473bd-a075-4eff-92b1-1cd9a063a2b0"
      },
      "execution_count": 12,
      "outputs": [
        {
          "output_type": "execute_result",
          "data": {
            "text/plain": [
              "10"
            ]
          },
          "metadata": {},
          "execution_count": 12
        }
      ]
    },
    {
      "cell_type": "markdown",
      "source": [
        "# **Getting the training, validation and test data**"
      ],
      "metadata": {
        "id": "aDTGbUN5rSWs"
      }
    },
    {
      "cell_type": "code",
      "source": [
        "# Set the training, validation and test split\n",
        "split_train, split_valid, split_test = 'train[:70%]', 'train[70%:]', 'test'\n",
        "\n",
        "# Get the training data\n",
        "data_train = tfds.load(name=data_name,\n",
        "                       split=split_train,\n",
        "                       data_dir=abspath_curr + '/data/',\n",
        "                       as_supervised=True)\n",
        "\n",
        "# Get the validation data\n",
        "data_valid = tfds.load(name=data_name,\n",
        "                       split=split_valid,\n",
        "                       data_dir=abspath_curr + '/data/',\n",
        "                       as_supervised=True)\n",
        "\n",
        "# Get the test data\n",
        "data_test = tfds.load(name=data_name,\n",
        "                      split=split_test,\n",
        "                      data_dir=abspath_curr + '/data/',\n",
        "                      as_supervised=True)"
      ],
      "metadata": {
        "id": "QV721k0WrU8L"
      },
      "execution_count": 13,
      "outputs": []
    },
    {
      "cell_type": "markdown",
      "source": [
        "# **Normalizing the data**"
      ],
      "metadata": {
        "id": "ITvchisPrbB8"
      }
    },
    {
      "cell_type": "code",
      "source": [
        "# Call preprocess\n",
        "# See the implementation in pmlm_utilities_deep.ipynb\n",
        "\n",
        "# Normalize the training data\n",
        "data_train = data_train.map(normalize)\n",
        "\n",
        "# Normalize the validation data\n",
        "data_valid = data_valid.map(normalize)\n",
        "\n",
        "# Normalize the test data\n",
        "data_test = data_test.map(normalize)"
      ],
      "metadata": {
        "id": "_EDqk9rxraAj"
      },
      "execution_count": 14,
      "outputs": []
    },
    {
      "cell_type": "markdown",
      "source": [
        "# **Shuffling, batching and prefetching the data**"
      ],
      "metadata": {
        "id": "tuV365dqreyk"
      }
    },
    {
      "cell_type": "code",
      "source": [
        "# Shuffling the training data\n",
        "data_train = data_train.shuffle(buffer_size=1000, seed=42)\n",
        "\n",
        "# Set the batch size\n",
        "batch_size = 16\n",
        "\n",
        "# Batch and prefetch the training data\n",
        "data_train = data_train.batch(batch_size).prefetch(1)\n",
        "\n",
        "# Batch and prefetch the validation data\n",
        "data_valid = data_valid.batch(batch_size).prefetch(1)\n",
        "\n",
        "# Batch and prefetch the test data\n",
        "data_test = data_test.batch(batch_size).prefetch(1)"
      ],
      "metadata": {
        "id": "rEbChqgKrh0E"
      },
      "execution_count": 15,
      "outputs": []
    },
    {
      "cell_type": "markdown",
      "metadata": {
        "id": "Y6iqu0kUez-E"
      },
      "source": [
        "# **Training**\n",
        "\n",
        "### **Creating the directory for the saved model**"
      ]
    },
    {
      "cell_type": "code",
      "execution_count": 16,
      "metadata": {
        "id": "aowuD9CnSeMn"
      },
      "outputs": [],
      "source": [
        "# Make directory\n",
        "directory = os.path.dirname(abspath_curr + '/result/model/')\n",
        "if not os.path.exists(directory):\n",
        "    os.makedirs(directory)"
      ]
    },
    {
      "cell_type": "markdown",
      "source": [
        "# **Building the model**"
      ],
      "metadata": {
        "id": "TSvkX7WVrwED"
      }
    },
    {
      "cell_type": "code",
      "source": [
        "# A sequential dnn\n",
        "model = keras.models.Sequential()\n",
        "\n",
        "# Add the input layer\n",
        "model.add(keras.layers.Flatten(input_shape=[32, 32, 3]))\n",
        "# Add bn layer\n",
        "model.add(keras.layers.BatchNormalization())\n",
        "\n",
        "# Add the first hidden layer\n",
        "model.add(keras.layers.Dense(50, activation='relu'))\n",
        "# Add bn layer\n",
        "model.add(keras.layers.BatchNormalization())\n",
        "\n",
        "# Add the second hidden layer\n",
        "model.add(keras.layers.Dense(50, activation='relu'))\n",
        "# Add bn layer\n",
        "model.add(keras.layers.BatchNormalization())\n",
        "\n",
        "# Add the output layer\n",
        "model.add(keras.layers.Dense(10, activation='softmax'))\n",
        "\n",
        "# The model summary\n",
        "model.summary()"
      ],
      "metadata": {
        "colab": {
          "base_uri": "https://localhost:8080/"
        },
        "id": "1jixMvSfrvlD",
        "outputId": "7ebeb90d-09d6-4b07-afbf-caa83f724b9e"
      },
      "execution_count": 17,
      "outputs": [
        {
          "output_type": "stream",
          "name": "stdout",
          "text": [
            "Model: \"sequential\"\n",
            "_________________________________________________________________\n",
            " Layer (type)                Output Shape              Param #   \n",
            "=================================================================\n",
            " flatten (Flatten)           (None, 3072)              0         \n",
            "                                                                 \n",
            " batch_normalization (BatchN  (None, 3072)             12288     \n",
            " ormalization)                                                   \n",
            "                                                                 \n",
            " dense (Dense)               (None, 50)                153650    \n",
            "                                                                 \n",
            " batch_normalization_1 (Batc  (None, 50)               200       \n",
            " hNormalization)                                                 \n",
            "                                                                 \n",
            " dense_1 (Dense)             (None, 50)                2550      \n",
            "                                                                 \n",
            " batch_normalization_2 (Batc  (None, 50)               200       \n",
            " hNormalization)                                                 \n",
            "                                                                 \n",
            " dense_2 (Dense)             (None, 10)                510       \n",
            "                                                                 \n",
            "=================================================================\n",
            "Total params: 169,398\n",
            "Trainable params: 163,054\n",
            "Non-trainable params: 6,344\n",
            "_________________________________________________________________\n"
          ]
        }
      ]
    },
    {
      "cell_type": "markdown",
      "source": [
        "# **Compiling the model**"
      ],
      "metadata": {
        "id": "IvHqTXGdsIAG"
      }
    },
    {
      "cell_type": "code",
      "source": [
        "# Compile the model\n",
        "model.compile(optimizer=keras.optimizers.SGD(),\n",
        "              loss='sparse_categorical_crossentropy',\n",
        "              metrics=['accuracy'])"
      ],
      "metadata": {
        "id": "EkbCgci_sILU"
      },
      "execution_count": 18,
      "outputs": []
    },
    {
      "cell_type": "markdown",
      "source": [
        "# **Training the model**\n",
        "### **Setting callbacks**\n"
      ],
      "metadata": {
        "id": "Zc_bPOjJsQJM"
      }
    },
    {
      "cell_type": "code",
      "source": [
        "# ModelCheckpoint callback\n",
        "model_checkpoint_cb = keras.callbacks.ModelCheckpoint(filepath=abspath_curr + '/result/model/model.h5',\n",
        "                                                      save_best_only=True,\n",
        "                                                      save_weights_only=True)\n",
        "\n",
        "# EarlyStopping callback\n",
        "early_stopping_cb = keras.callbacks.EarlyStopping(patience=5,\n",
        "                                                  restore_best_weights=True)\n",
        "\n",
        "# ReduceLROnPlateau callback\n",
        "reduce_lr_on_plateau_cb = keras.callbacks.ReduceLROnPlateau(\n",
        "    factor=0.1,\n",
        "    patience=5)"
      ],
      "metadata": {
        "id": "smA-a6wAsVKk"
      },
      "execution_count": 19,
      "outputs": []
    },
    {
      "cell_type": "markdown",
      "source": [
        "# **Training, evaluating and saving the best model**"
      ],
      "metadata": {
        "id": "1RW5JVhEsXZE"
      }
    },
    {
      "cell_type": "code",
      "source": [
        "# Train, evaluate and save the best model\n",
        "history = model.fit(data_train,\n",
        "                    epochs=10,\n",
        "                    validation_data=data_valid,\n",
        "                    callbacks=[model_checkpoint_cb,\n",
        "                               early_stopping_cb,\n",
        "                               reduce_lr_on_plateau_cb])"
      ],
      "metadata": {
        "colab": {
          "base_uri": "https://localhost:8080/"
        },
        "id": "_VhDKxZ_sZZH",
        "outputId": "c572d536-2c27-49ff-ea86-2afecb8e47cc"
      },
      "execution_count": 20,
      "outputs": [
        {
          "output_type": "stream",
          "name": "stdout",
          "text": [
            "Epoch 1/10\n",
            "2188/2188 [==============================] - 27s 9ms/step - loss: 1.8661 - accuracy: 0.3353 - val_loss: 1.6670 - val_accuracy: 0.4137 - lr: 0.0100\n",
            "Epoch 2/10\n",
            "2188/2188 [==============================] - 15s 7ms/step - loss: 1.6979 - accuracy: 0.3968 - val_loss: 1.5847 - val_accuracy: 0.4398 - lr: 0.0100\n",
            "Epoch 3/10\n",
            "2188/2188 [==============================] - 16s 7ms/step - loss: 1.6336 - accuracy: 0.4201 - val_loss: 1.5384 - val_accuracy: 0.4549 - lr: 0.0100\n",
            "Epoch 4/10\n",
            "2188/2188 [==============================] - 17s 8ms/step - loss: 1.5900 - accuracy: 0.4366 - val_loss: 1.5171 - val_accuracy: 0.4603 - lr: 0.0100\n",
            "Epoch 5/10\n",
            "2188/2188 [==============================] - 16s 7ms/step - loss: 1.5605 - accuracy: 0.4469 - val_loss: 1.4993 - val_accuracy: 0.4699 - lr: 0.0100\n",
            "Epoch 6/10\n",
            "2188/2188 [==============================] - 16s 7ms/step - loss: 1.5416 - accuracy: 0.4516 - val_loss: 1.4831 - val_accuracy: 0.4711 - lr: 0.0100\n",
            "Epoch 7/10\n",
            "2188/2188 [==============================] - 18s 8ms/step - loss: 1.5148 - accuracy: 0.4601 - val_loss: 1.4712 - val_accuracy: 0.4782 - lr: 0.0100\n",
            "Epoch 8/10\n",
            "2188/2188 [==============================] - 15s 7ms/step - loss: 1.5011 - accuracy: 0.4683 - val_loss: 1.4515 - val_accuracy: 0.4844 - lr: 0.0100\n",
            "Epoch 9/10\n",
            "2188/2188 [==============================] - 15s 7ms/step - loss: 1.4831 - accuracy: 0.4742 - val_loss: 1.4535 - val_accuracy: 0.4828 - lr: 0.0100\n",
            "Epoch 10/10\n",
            "2188/2188 [==============================] - 16s 7ms/step - loss: 1.4644 - accuracy: 0.4804 - val_loss: 1.4473 - val_accuracy: 0.4892 - lr: 0.0100\n"
          ]
        }
      ]
    },
    {
      "cell_type": "markdown",
      "source": [
        "# **Plotting the learning curve**\n",
        "## **Creating the directory for the figure**"
      ],
      "metadata": {
        "id": "Bv1CyUPgGFP6"
      }
    },
    {
      "cell_type": "code",
      "source": [
        "# Make directory\n",
        "directory = os.path.dirname(abspath_curr + '/result/figure/')\n",
        "if not os.path.exists(directory):\n",
        "    os.makedirs(directory)"
      ],
      "metadata": {
        "id": "nculqdnHGIph"
      },
      "execution_count": 21,
      "outputs": []
    },
    {
      "cell_type": "markdown",
      "source": [
        "## **Plotting the figure**"
      ],
      "metadata": {
        "id": "CiHdrhVbGLJS"
      }
    },
    {
      "cell_type": "code",
      "source": [
        "import pandas as pd\n",
        "\n",
        "# Create a figure\n",
        "pd.DataFrame(history.history).plot(figsize=(8, 5))\n",
        "\n",
        "# Save and show the figure\n",
        "plt.tight_layout()\n",
        "plt.savefig(abspath_curr + '/result/figure/learning_curve.pdf')\n",
        "plt.show()"
      ],
      "metadata": {
        "colab": {
          "base_uri": "https://localhost:8080/",
          "height": 476
        },
        "id": "7RNuu_LvGJdg",
        "outputId": "bc816cc9-6d1a-4648-cc0a-395dc9e7dac6"
      },
      "execution_count": 22,
      "outputs": [
        {
          "output_type": "display_data",
          "data": {
            "text/plain": [
              "<Figure size 800x500 with 1 Axes>"
            ],
            "image/png": "[encoded data removed]"
          },
          "metadata": {}
        }
      ]
    },
    {
      "cell_type": "markdown",
      "metadata": {
        "id": "RkGivY_MA6m1"
      },
      "source": [
        "# Testing the Best Model\n",
        "\n",
        "## **Loading the saved model**"
      ]
    },
    {
      "cell_type": "code",
      "source": [
        "# Load the saved model\n",
        "model.load_weights(filepath=abspath_curr + '/result/model/model.h5')"
      ],
      "metadata": {
        "id": "cz3mQ19qGWEp"
      },
      "execution_count": 23,
      "outputs": []
    },
    {
      "cell_type": "markdown",
      "source": [
        "## **Evaluating the model**"
      ],
      "metadata": {
        "id": "QiU5TTPCGZhh"
      }
    },
    {
      "cell_type": "code",
      "execution_count": 24,
      "metadata": {
        "id": "eSIS6MeWSeMn",
        "colab": {
          "base_uri": "https://localhost:8080/"
        },
        "outputId": "9753ce45-a0e1-4f13-c204-c796bfd77401"
      },
      "outputs": [
        {
          "output_type": "stream",
          "name": "stdout",
          "text": [
            "625/625 [==============================] - 3s 5ms/step - loss: 1.4268 - accuracy: 0.4932\n"
          ]
        }
      ],
      "source": [
        "loss, accuracy = model.evaluate(data_test)"
      ]
    },
    {
      "cell_type": "markdown",
      "source": [
        "# **Reference**\n",
        "The code for building, compiling and training DNNs were largely inspired by the following work:\n",
        "Géron, A., 2019. Hands-On Machine Learning with Scikit-Learn, Keras, and TensorFlow: Concepts, Tools, and Techniques to Build Intelligent Systems. O'Reilly Media."
      ],
      "metadata": {
        "id": "6nG6zYL_Gdo6"
      }
    }
  ],
  "metadata": {
    "accelerator": "GPU",
    "colab": {
      "provenance": []
    },
    "kernelspec": {
      "display_name": "Python 3",
      "language": "python",
      "name": "python3"
    },
    "language_info": {
      "codemirror_mode": {
        "name": "ipython",
        "version": 3
      },
      "file_extension": ".py",
      "mimetype": "text/x-python",
      "name": "python",
      "nbconvert_exporter": "python",
      "pygments_lexer": "ipython3",
      "version": "3.7.6"
    },
    "toc": {
      "base_numbering": 1,
      "nav_menu": {},
      "number_sections": true,
      "sideBar": true,
      "skip_h1_title": false,
      "title_cell": "Table of Contents",
      "title_sidebar": "Contents",
      "toc_cell": true,
      "toc_position": {},
      "toc_section_display": true,
      "toc_window_display": false
    }
  },
  "nbformat": 4,
  "nbformat_minor": 0
}