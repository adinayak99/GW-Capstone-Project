{
 "cells": [
  {
   "cell_type": "code",
   "execution_count": 1,
   "id": "f4941eb3",
   "metadata": {},
   "outputs": [],
   "source": [
    "import pandas as pd\n",
    "from sklearn.model_selection import train_test_split\n",
    "from sklearn.preprocessing import LabelEncoder, StandardScaler\n",
    "from sklearn.linear_model import LogisticRegression\n",
    "from sklearn.neighbors import KNeighborsClassifier\n",
    "from sklearn.ensemble import GradientBoostingClassifier\n",
    "from sklearn.naive_bayes import GaussianNB\n",
    "from sklearn.metrics import accuracy_score, classification_report"
   ]
  },
  {
   "cell_type": "markdown",
   "id": "d0953510",
   "metadata": {},
   "source": [
    "Orginal Dataset"
   ]
  },
  {
   "cell_type": "code",
   "execution_count": 2,
   "id": "32196aa8",
   "metadata": {},
   "outputs": [],
   "source": [
    "# Reading the dataset from a CSV file into a Pandas DataFrame\n",
    "obesitydataset = pd.read_csv('C:/Users/chari/Downloads/data/ObesityDataSet.csv')"
   ]
  },
  {
   "cell_type": "code",
   "execution_count": 3,
   "id": "39eb0043",
   "metadata": {},
   "outputs": [],
   "source": [
    "# Separating features (X) and target variable (y)\n",
    "X = obesitydataset.drop(columns=['NObeyesdad'])\n",
    "y = obesitydataset['NObeyesdad']"
   ]
  },
  {
   "cell_type": "code",
   "execution_count": 4,
   "id": "c42d0872",
   "metadata": {},
   "outputs": [],
   "source": [
    "# Splitting the dataset into training and testing sets\n",
    "X_train, X_test, y_train, y_test = train_test_split(X, y, test_size=0.2, random_state=42)"
   ]
  },
  {
   "cell_type": "code",
   "execution_count": 5,
   "id": "526370df",
   "metadata": {},
   "outputs": [],
   "source": [
    "# Initializing the LabelEncoder object\n",
    "label_encoder = LabelEncoder()\n",
    "\n",
    "# Encoding categorical variables in the training set\n",
    "X_train_encoded = X_train.apply(label_encoder.fit_transform)\n",
    "\n",
    "# Encoding the target variable in the training set\n",
    "y_train_encoded = label_encoder.fit_transform(y_train)"
   ]
  },
  {
   "cell_type": "code",
   "execution_count": 6,
   "id": "fa182f7d",
   "metadata": {},
   "outputs": [
    {
     "name": "stderr",
     "output_type": "stream",
     "text": [
      "C:\\Users\\chari\\anaconda3\\lib\\site-packages\\sklearn\\linear_model\\_logistic.py:814: ConvergenceWarning: lbfgs failed to converge (status=1):\n",
      "STOP: TOTAL NO. of ITERATIONS REACHED LIMIT.\n",
      "\n",
      "Increase the number of iterations (max_iter) or scale the data as shown in:\n",
      "    https://scikit-learn.org/stable/modules/preprocessing.html\n",
      "Please also refer to the documentation for alternative solver options:\n",
      "    https://scikit-learn.org/stable/modules/linear_model.html#logistic-regression\n",
      "  n_iter_i = _check_optimize_result(\n"
     ]
    },
    {
     "data": {
      "text/plain": [
       "LogisticRegression()"
      ]
     },
     "execution_count": 6,
     "metadata": {},
     "output_type": "execute_result"
    }
   ],
   "source": [
    "# Initializing the logistic regression model\n",
    "log_reg_model = LogisticRegression()\n",
    "\n",
    "# Training the model using encoded features and target\n",
    "log_reg_model.fit(X_train_encoded, y_train_encoded)"
   ]
  },
  {
   "cell_type": "code",
   "execution_count": 7,
   "id": "fff987df",
   "metadata": {},
   "outputs": [],
   "source": [
    "# Making predictions on the training set\n",
    "y_pred = log_reg_model.predict(X_train_encoded)"
   ]
  },
  {
   "cell_type": "code",
   "execution_count": 8,
   "id": "151d5308",
   "metadata": {},
   "outputs": [
    {
     "name": "stdout",
     "output_type": "stream",
     "text": [
      "Training Accuracy: 0.7624407582938388\n"
     ]
    }
   ],
   "source": [
    "# Calculating the accuracy of the model on the training set\n",
    "accuracy = accuracy_score(y_train_encoded, y_pred)\n",
    "print(\"Training Accuracy:\", accuracy)"
   ]
  },
  {
   "cell_type": "code",
   "execution_count": 9,
   "id": "0b52cf03",
   "metadata": {},
   "outputs": [
    {
     "name": "stdout",
     "output_type": "stream",
     "text": [
      "              precision    recall  f1-score   support\n",
      "\n",
      "           0       0.95      1.00      0.98       216\n",
      "           1       0.88      0.78      0.83       225\n",
      "           2       0.65      0.60      0.63       273\n",
      "           3       0.74      0.80      0.77       239\n",
      "           4       0.88      0.96      0.92       261\n",
      "           5       0.64      0.57      0.60       234\n",
      "           6       0.61      0.65      0.63       240\n",
      "\n",
      "    accuracy                           0.76      1688\n",
      "   macro avg       0.76      0.77      0.76      1688\n",
      "weighted avg       0.76      0.76      0.76      1688\n",
      "\n"
     ]
    }
   ],
   "source": [
    "# Generating a classification report\n",
    "print(classification_report(y_train_encoded, y_pred))"
   ]
  },
  {
   "cell_type": "code",
   "execution_count": 10,
   "id": "ce02a700",
   "metadata": {},
   "outputs": [
    {
     "data": {
      "text/plain": [
       "KNeighborsClassifier()"
      ]
     },
     "execution_count": 10,
     "metadata": {},
     "output_type": "execute_result"
    }
   ],
   "source": [
    "# Initializing the K-Nearest Neighbors classifier with 5 neighbors\n",
    "knn_model = KNeighborsClassifier(n_neighbors=5)\n",
    "\n",
    "# Training the KNN model using the encoded features and target\n",
    "knn_model.fit(X_train_encoded, y_train_encoded)"
   ]
  },
  {
   "cell_type": "code",
   "execution_count": 11,
   "id": "615295f2",
   "metadata": {},
   "outputs": [],
   "source": [
    "# Making predictions on the training set using the trained KNN model\n",
    "y_pred_knn = knn_model.predict(X_train_encoded)"
   ]
  },
  {
   "cell_type": "code",
   "execution_count": 12,
   "id": "9c438220",
   "metadata": {},
   "outputs": [
    {
     "name": "stdout",
     "output_type": "stream",
     "text": [
      "KNN Training Accuracy: 0.8909952606635071\n"
     ]
    }
   ],
   "source": [
    "# Calculating the accuracy of the model on the training set\n",
    "accuracy_knn = accuracy_score(y_train_encoded, y_pred_knn)\n",
    "print(\"KNN Training Accuracy:\", accuracy_knn)"
   ]
  },
  {
   "cell_type": "code",
   "execution_count": 13,
   "id": "bc22efa7",
   "metadata": {},
   "outputs": [
    {
     "name": "stdout",
     "output_type": "stream",
     "text": [
      "              precision    recall  f1-score   support\n",
      "\n",
      "           0       0.79      0.93      0.86       216\n",
      "           1       0.80      0.64      0.71       225\n",
      "           2       0.90      0.96      0.93       273\n",
      "           3       0.99      1.00      0.99       239\n",
      "           4       1.00      1.00      1.00       261\n",
      "           5       0.82      0.79      0.81       234\n",
      "           6       0.91      0.88      0.89       240\n",
      "\n",
      "    accuracy                           0.89      1688\n",
      "   macro avg       0.89      0.89      0.88      1688\n",
      "weighted avg       0.89      0.89      0.89      1688\n",
      "\n"
     ]
    }
   ],
   "source": [
    "# Generating a classification report\n",
    "print(classification_report(y_train_encoded, y_pred_knn))"
   ]
  },
  {
   "cell_type": "code",
   "execution_count": 14,
   "id": "7efc3722",
   "metadata": {},
   "outputs": [
    {
     "data": {
      "text/plain": [
       "GradientBoostingClassifier(ccp_alpha=0.001, learning_rate=0.01)"
      ]
     },
     "execution_count": 14,
     "metadata": {},
     "output_type": "execute_result"
    }
   ],
   "source": [
    "# Initializing Gradient Boosting Classifier with 100 estimators\n",
    "gbc_model = GradientBoostingClassifier(n_estimators=100, learning_rate=0.01, ccp_alpha=0.001)\n",
    "    \n",
    "# Training Gradient Boosting Classifier using the encoded features and target\n",
    "gbc_model.fit(X_train_encoded, y_train_encoded)"
   ]
  },
  {
   "cell_type": "code",
   "execution_count": 15,
   "id": "cb7c1018",
   "metadata": {},
   "outputs": [],
   "source": [
    "# Making predictions using Gradient Boosting Classifier on the training set\n",
    "y_pred_gbc = gbc_model.predict(X_train_encoded)"
   ]
  },
  {
   "cell_type": "code",
   "execution_count": 16,
   "id": "78a4e785",
   "metadata": {},
   "outputs": [
    {
     "name": "stdout",
     "output_type": "stream",
     "text": [
      "Gradient Boosting Training Accuracy: 0.8951421800947867\n"
     ]
    }
   ],
   "source": [
    "# Calculating the accuracy of the model on the training set\n",
    "accuracy_gbc = accuracy_score(y_train_encoded, y_pred_gbc)\n",
    "print(\"Gradient Boosting Training Accuracy:\", accuracy_gbc)"
   ]
  },
  {
   "cell_type": "code",
   "execution_count": 17,
   "id": "30d25700",
   "metadata": {},
   "outputs": [
    {
     "name": "stdout",
     "output_type": "stream",
     "text": [
      "              precision    recall  f1-score   support\n",
      "\n",
      "           0       0.97      0.98      0.97       216\n",
      "           1       0.85      0.86      0.86       225\n",
      "           2       0.94      0.86      0.90       273\n",
      "           3       0.97      0.97      0.97       239\n",
      "           4       1.00      1.00      1.00       261\n",
      "           5       0.84      0.70      0.76       234\n",
      "           6       0.73      0.89      0.80       240\n",
      "\n",
      "    accuracy                           0.90      1688\n",
      "   macro avg       0.90      0.89      0.89      1688\n",
      "weighted avg       0.90      0.90      0.90      1688\n",
      "\n"
     ]
    }
   ],
   "source": [
    "# Generating a classification report\n",
    "print(classification_report(y_train_encoded, y_pred_gbc))"
   ]
  },
  {
   "cell_type": "code",
   "execution_count": 18,
   "id": "9e8e87fc",
   "metadata": {},
   "outputs": [
    {
     "data": {
      "text/plain": [
       "GaussianNB()"
      ]
     },
     "execution_count": 18,
     "metadata": {},
     "output_type": "execute_result"
    }
   ],
   "source": [
    "# Initializing Gaussian Naive Bayes model\n",
    "gnb_model = GaussianNB()\n",
    "\n",
    "# Training Gaussian Naive Bayes model using the encoded features and target\n",
    "gnb_model.fit(X_train_encoded, y_train_encoded)"
   ]
  },
  {
   "cell_type": "code",
   "execution_count": 19,
   "id": "87cf4bbb",
   "metadata": {},
   "outputs": [],
   "source": [
    "# Making predictions using Gaussian Naive Bayes model on the training set\n",
    "y_pred_gnb = gnb_model.predict(X_train_encoded)"
   ]
  },
  {
   "cell_type": "code",
   "execution_count": 20,
   "id": "99f820b4",
   "metadata": {},
   "outputs": [
    {
     "name": "stdout",
     "output_type": "stream",
     "text": [
      "Naive Bayes Training Accuracy: 0.6131516587677726\n"
     ]
    }
   ],
   "source": [
    "# Calculating the accuracy of the model on the training set\n",
    "accuracy_gnb = accuracy_score(y_train_encoded, y_pred_gnb)\n",
    "print(\"Naive Bayes Training Accuracy:\", accuracy_gnb)"
   ]
  },
  {
   "cell_type": "code",
   "execution_count": 21,
   "id": "903a8cf8",
   "metadata": {},
   "outputs": [
    {
     "name": "stdout",
     "output_type": "stream",
     "text": [
      "              precision    recall  f1-score   support\n",
      "\n",
      "           0       0.71      0.78      0.74       216\n",
      "           1       0.61      0.38      0.47       225\n",
      "           2       0.35      0.73      0.47       273\n",
      "           3       0.71      0.88      0.79       239\n",
      "           4       0.98      0.99      0.99       261\n",
      "           5       0.62      0.29      0.40       234\n",
      "           6       0.61      0.18      0.28       240\n",
      "\n",
      "    accuracy                           0.61      1688\n",
      "   macro avg       0.66      0.61      0.59      1688\n",
      "weighted avg       0.65      0.61      0.59      1688\n",
      "\n"
     ]
    }
   ],
   "source": [
    "# Generating a classification report\n",
    "print(classification_report(y_train_encoded, y_pred_gnb))"
   ]
  },
  {
   "cell_type": "markdown",
   "id": "9637d413",
   "metadata": {},
   "source": [
    "Deep Learning Model Dataset"
   ]
  },
  {
   "cell_type": "code",
   "execution_count": 22,
   "id": "0fa7e138",
   "metadata": {},
   "outputs": [],
   "source": [
    "train_data_dl = pd.read_csv('C:/Users/chari/Downloads/data/train_dlm.csv')\n",
    "test_data_dl = pd.read_csv('C:/Users/chari/Downloads/data/test.csv')"
   ]
  },
  {
   "cell_type": "code",
   "execution_count": 23,
   "id": "f0c3db61",
   "metadata": {},
   "outputs": [],
   "source": [
    "X_train_dl = train_data_dl.drop('NObeyesdad', axis=1)\n",
    "y_train_dl = train_data_dl['NObeyesdad']\n",
    "X_test_dl = test_data_dl"
   ]
  },
  {
   "cell_type": "code",
   "execution_count": 24,
   "id": "cb0c30d9",
   "metadata": {},
   "outputs": [
    {
     "name": "stderr",
     "output_type": "stream",
     "text": [
      "C:\\Users\\chari\\anaconda3\\lib\\site-packages\\sklearn\\linear_model\\_logistic.py:814: ConvergenceWarning: lbfgs failed to converge (status=1):\n",
      "STOP: TOTAL NO. of ITERATIONS REACHED LIMIT.\n",
      "\n",
      "Increase the number of iterations (max_iter) or scale the data as shown in:\n",
      "    https://scikit-learn.org/stable/modules/preprocessing.html\n",
      "Please also refer to the documentation for alternative solver options:\n",
      "    https://scikit-learn.org/stable/modules/linear_model.html#logistic-regression\n",
      "  n_iter_i = _check_optimize_result(\n"
     ]
    },
    {
     "data": {
      "text/plain": [
       "LogisticRegression()"
      ]
     },
     "execution_count": 24,
     "metadata": {},
     "output_type": "execute_result"
    }
   ],
   "source": [
    "label_encoder = LabelEncoder()\n",
    "\n",
    "X_train_encoded_dl = X_train_dl.apply(label_encoder.fit_transform)\n",
    "y_train_encoded_dl = label_encoder.fit_transform(y_train_dl)\n",
    "\n",
    "log_reg_model_dl = LogisticRegression()\n",
    "log_reg_model_dl.fit(X_train_encoded_dl, y_train_encoded_dl)"
   ]
  },
  {
   "cell_type": "code",
   "execution_count": 25,
   "id": "1aff02f1",
   "metadata": {},
   "outputs": [],
   "source": [
    "y_pred_dl = log_reg_model_dl.predict(X_train_encoded_dl)"
   ]
  },
  {
   "cell_type": "code",
   "execution_count": 26,
   "id": "91a2e0c6",
   "metadata": {},
   "outputs": [
    {
     "name": "stdout",
     "output_type": "stream",
     "text": [
      "Training Accuracy: 0.7624407582938388\n"
     ]
    }
   ],
   "source": [
    "accuracy_log = accuracy_score(y_train_encoded_dl, y_pred_dl)\n",
    "print(\"Training Accuracy:\", accuracy)"
   ]
  },
  {
   "cell_type": "code",
   "execution_count": 27,
   "id": "97e84319",
   "metadata": {},
   "outputs": [
    {
     "name": "stdout",
     "output_type": "stream",
     "text": [
      "              precision    recall  f1-score   support\n",
      "\n",
      "           0       0.79      0.81      0.80      2523\n",
      "           1       0.61      0.68      0.64      3082\n",
      "           2       0.66      0.55      0.60      2910\n",
      "           3       0.77      0.90      0.83      3248\n",
      "           4       0.91      0.97      0.94      4046\n",
      "           5       0.51      0.27      0.36      2427\n",
      "           6       0.49      0.57      0.52      2522\n",
      "\n",
      "    accuracy                           0.71     20758\n",
      "   macro avg       0.68      0.68      0.67     20758\n",
      "weighted avg       0.70      0.71      0.69     20758\n",
      "\n"
     ]
    }
   ],
   "source": [
    "print(classification_report(y_train_encoded_dl, y_pred_dl))"
   ]
  },
  {
   "cell_type": "code",
   "execution_count": 28,
   "id": "c32641c2",
   "metadata": {},
   "outputs": [
    {
     "data": {
      "text/plain": [
       "KNeighborsClassifier()"
      ]
     },
     "execution_count": 28,
     "metadata": {},
     "output_type": "execute_result"
    }
   ],
   "source": [
    "knn_model_dl = KNeighborsClassifier(n_neighbors=5)\n",
    "\n",
    "knn_model_dl.fit(X_train_encoded_dl, y_train_encoded_dl)"
   ]
  },
  {
   "cell_type": "code",
   "execution_count": 29,
   "id": "1c4050e0",
   "metadata": {},
   "outputs": [],
   "source": [
    "y_pred_knn_dl = knn_model_dl.predict(X_train_encoded_dl)"
   ]
  },
  {
   "cell_type": "code",
   "execution_count": 30,
   "id": "0e516ddd",
   "metadata": {},
   "outputs": [
    {
     "name": "stdout",
     "output_type": "stream",
     "text": [
      "KNN Training Accuracy: 0.775363715194142\n"
     ]
    }
   ],
   "source": [
    "accuracy_knn = accuracy_score(y_train_encoded_dl, y_pred_knn_dl)\n",
    "print(\"KNN Training Accuracy:\", accuracy_knn)"
   ]
  },
  {
   "cell_type": "code",
   "execution_count": 31,
   "id": "34340c88",
   "metadata": {},
   "outputs": [
    {
     "name": "stdout",
     "output_type": "stream",
     "text": [
      "              precision    recall  f1-score   support\n",
      "\n",
      "           0       0.71      0.81      0.75      2523\n",
      "           1       0.61      0.71      0.66      3082\n",
      "           2       0.75      0.77      0.76      2910\n",
      "           3       0.92      0.93      0.93      3248\n",
      "           4       0.97      0.99      0.98      4046\n",
      "           5       0.64      0.48      0.55      2427\n",
      "           6       0.70      0.56      0.63      2522\n",
      "\n",
      "    accuracy                           0.78     20758\n",
      "   macro avg       0.76      0.75      0.75     20758\n",
      "weighted avg       0.77      0.78      0.77     20758\n",
      "\n"
     ]
    }
   ],
   "source": [
    "print(classification_report(y_train_encoded_dl, y_pred_knn_dl))"
   ]
  },
  {
   "cell_type": "code",
   "execution_count": null,
   "id": "e3aaec61",
   "metadata": {},
   "outputs": [],
   "source": [
    "gbc_model_dl = GradientBoostingClassifier(n_estimators=100, learning_rate=0.01, ccp_alpha=0.001)\n",
    "\n",
    "gbc_model_dl.fit(X_train_encoded_dl, y_train_encoded_dl)"
   ]
  },
  {
   "cell_type": "code",
   "execution_count": null,
   "id": "8b97a1b6",
   "metadata": {},
   "outputs": [],
   "source": [
    "y_pred_gbc_dl = gbc_model_dl.predict(X_train_encoded_dl)"
   ]
  },
  {
   "cell_type": "code",
   "execution_count": null,
   "id": "e2c2648f",
   "metadata": {},
   "outputs": [],
   "source": [
    "accuracy_gbc = accuracy_score(y_train_encoded_dl, y_pred_gbc_dl)\n",
    "print(\"Gradient Boosting Training Accuracy:\", accuracy_gbc)"
   ]
  },
  {
   "cell_type": "code",
   "execution_count": null,
   "id": "81264881",
   "metadata": {},
   "outputs": [],
   "source": [
    "print(classification_report(y_train_encoded_dl, y_pred_gbc_dl))"
   ]
  },
  {
   "cell_type": "code",
   "execution_count": null,
   "id": "864d4a90",
   "metadata": {},
   "outputs": [],
   "source": [
    "gnb_model_dl = GaussianNB()\n",
    "\n",
    "gnb_model_dl.fit(X_train_encoded_dl, y_train_encoded_dl)"
   ]
  },
  {
   "cell_type": "code",
   "execution_count": null,
   "id": "0d26385e",
   "metadata": {},
   "outputs": [],
   "source": [
    "y_pred_gnb_dl = gnb_model_dl.predict(X_train_encoded_dl)"
   ]
  },
  {
   "cell_type": "code",
   "execution_count": null,
   "id": "0c3b5293",
   "metadata": {},
   "outputs": [],
   "source": [
    "accuracy_gnb = accuracy_score(y_train_encoded_dl, y_pred_gnb_dl)\n",
    "print(\"Naive Bayes Training Accuracy:\", accuracy_gnb)"
   ]
  },
  {
   "cell_type": "code",
   "execution_count": null,
   "id": "82ab1b32",
   "metadata": {},
   "outputs": [],
   "source": [
    "print(classification_report(y_train_encoded_dl, y_pred_gnb_dl))"
   ]
  }
 ],
 "metadata": {
  "kernelspec": {
   "display_name": "Python 3 (ipykernel)",
   "language": "python",
   "name": "python3"
  },
  "language_info": {
   "codemirror_mode": {
    "name": "ipython",
    "version": 3
   },
   "file_extension": ".py",
   "mimetype": "text/x-python",
   "name": "python",
   "nbconvert_exporter": "python",
   "pygments_lexer": "ipython3",
   "version": "3.9.12"
  }
 },
 "nbformat": 4,
 "nbformat_minor": 5
}
