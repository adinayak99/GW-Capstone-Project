{
 "cells": [
  {
   "cell_type": "code",
   "execution_count": 17,
   "id": "f4941eb3",
   "metadata": {},
   "outputs": [],
   "source": [
    "import pandas as pd\n",
    "from sklearn.model_selection import train_test_split\n",
    "from sklearn.preprocessing import LabelEncoder, StandardScaler\n",
    "from sklearn.linear_model import LogisticRegression\n",
    "from sklearn.neighbors import KNeighborsClassifier\n",
    "from sklearn.ensemble import GradientBoostingClassifier\n",
    "from sklearn.naive_bayes import GaussianNB\n",
    "from sklearn.metrics import accuracy_score, classification_report"
   ]
  },
  {
   "cell_type": "code",
   "execution_count": 2,
   "id": "0fa7e138",
   "metadata": {},
   "outputs": [],
   "source": [
    "train_data = pd.read_csv('C:/Users/chari/Downloads/data/train_dlm.csv')\n",
    "test_data = pd.read_csv('C:/Users/chari/Downloads/data/test.csv')"
   ]
  },
  {
   "cell_type": "code",
   "execution_count": 3,
   "id": "f0c3db61",
   "metadata": {},
   "outputs": [],
   "source": [
    "X_train = train_data.drop('NObeyesdad', axis=1)\n",
    "y_train = train_data['NObeyesdad']\n",
    "X_test = test_data"
   ]
  },
  {
   "cell_type": "code",
   "execution_count": 24,
   "id": "cb0c30d9",
   "metadata": {},
   "outputs": [
    {
     "name": "stderr",
     "output_type": "stream",
     "text": [
      "C:\\Users\\chari\\anaconda3\\lib\\site-packages\\sklearn\\linear_model\\_logistic.py:814: ConvergenceWarning: lbfgs failed to converge (status=1):\n",
      "STOP: TOTAL NO. of ITERATIONS REACHED LIMIT.\n",
      "\n",
      "Increase the number of iterations (max_iter) or scale the data as shown in:\n",
      "    https://scikit-learn.org/stable/modules/preprocessing.html\n",
      "Please also refer to the documentation for alternative solver options:\n",
      "    https://scikit-learn.org/stable/modules/linear_model.html#logistic-regression\n",
      "  n_iter_i = _check_optimize_result(\n"
     ]
    },
    {
     "data": {
      "text/plain": [
       "LogisticRegression()"
      ]
     },
     "execution_count": 24,
     "metadata": {},
     "output_type": "execute_result"
    }
   ],
   "source": [
    "label_encoder = LabelEncoder()\n",
    "\n",
    "X_train_encoded = X_train.apply(label_encoder.fit_transform)\n",
    "y_train_encoded = label_encoder.fit_transform(y_train)\n",
    "\n",
    "log_reg_model = LogisticRegression()\n",
    "log_reg_model.fit(X_train_encoded, y_train_encoded)"
   ]
  },
  {
   "cell_type": "code",
   "execution_count": 25,
   "id": "1aff02f1",
   "metadata": {},
   "outputs": [],
   "source": [
    "y_pred = log_reg_model.predict(X_train_encoded)"
   ]
  },
  {
   "cell_type": "code",
   "execution_count": 27,
   "id": "91a2e0c6",
   "metadata": {},
   "outputs": [
    {
     "name": "stdout",
     "output_type": "stream",
     "text": [
      "Training Accuracy: 0.7061855670103093\n"
     ]
    }
   ],
   "source": [
    "accuracy = accuracy_score(y_train_encoded, y_pred)\n",
    "print(\"Training Accuracy:\", accuracy)"
   ]
  },
  {
   "cell_type": "code",
   "execution_count": 28,
   "id": "97e84319",
   "metadata": {},
   "outputs": [
    {
     "name": "stdout",
     "output_type": "stream",
     "text": [
      "              precision    recall  f1-score   support\n",
      "\n",
      "           0       0.79      0.81      0.80      2523\n",
      "           1       0.61      0.68      0.64      3082\n",
      "           2       0.66      0.55      0.60      2910\n",
      "           3       0.77      0.90      0.83      3248\n",
      "           4       0.91      0.97      0.94      4046\n",
      "           5       0.51      0.27      0.36      2427\n",
      "           6       0.49      0.57      0.52      2522\n",
      "\n",
      "    accuracy                           0.71     20758\n",
      "   macro avg       0.68      0.68      0.67     20758\n",
      "weighted avg       0.70      0.71      0.69     20758\n",
      "\n"
     ]
    }
   ],
   "source": [
    "print(classification_report(y_train_encoded, y_pred))"
   ]
  },
  {
   "cell_type": "code",
   "execution_count": 8,
   "id": "c32641c2",
   "metadata": {},
   "outputs": [],
   "source": [
    "knn_model = KNeighborsClassifier(n_neighbors=5)"
   ]
  },
  {
   "cell_type": "code",
   "execution_count": 9,
   "id": "1c4050e0",
   "metadata": {},
   "outputs": [],
   "source": [
    "knn_model.fit(X_train_encoded, y_train_encoded)\n",
    "y_pred_knn = knn_model.predict(X_train_encoded)"
   ]
  },
  {
   "cell_type": "code",
   "execution_count": 10,
   "id": "0e516ddd",
   "metadata": {},
   "outputs": [
    {
     "name": "stdout",
     "output_type": "stream",
     "text": [
      "KNN Training Accuracy: 0.775363715194142\n"
     ]
    }
   ],
   "source": [
    "accuracy_knn = accuracy_score(y_train_encoded, y_pred_knn)\n",
    "print(\"KNN Training Accuracy:\", accuracy_knn)"
   ]
  },
  {
   "cell_type": "code",
   "execution_count": 11,
   "id": "34340c88",
   "metadata": {},
   "outputs": [
    {
     "name": "stdout",
     "output_type": "stream",
     "text": [
      "              precision    recall  f1-score   support\n",
      "\n",
      "           0       0.71      0.81      0.75      2523\n",
      "           1       0.61      0.71      0.66      3082\n",
      "           2       0.75      0.77      0.76      2910\n",
      "           3       0.92      0.93      0.93      3248\n",
      "           4       0.97      0.99      0.98      4046\n",
      "           5       0.64      0.48      0.55      2427\n",
      "           6       0.70      0.56      0.63      2522\n",
      "\n",
      "    accuracy                           0.78     20758\n",
      "   macro avg       0.76      0.75      0.75     20758\n",
      "weighted avg       0.77      0.78      0.77     20758\n",
      "\n"
     ]
    }
   ],
   "source": [
    "print(classification_report(y_train_encoded, y_pred_knn))"
   ]
  },
  {
   "cell_type": "code",
   "execution_count": 12,
   "id": "e3aaec61",
   "metadata": {},
   "outputs": [],
   "source": [
    "gbc_model = GradientBoostingClassifier(n_estimators=100)"
   ]
  },
  {
   "cell_type": "code",
   "execution_count": 13,
   "id": "99d38557",
   "metadata": {},
   "outputs": [
    {
     "data": {
      "text/plain": [
       "GradientBoostingClassifier()"
      ]
     },
     "execution_count": 13,
     "metadata": {},
     "output_type": "execute_result"
    }
   ],
   "source": [
    "gbc_model.fit(X_train_encoded, y_train_encoded)"
   ]
  },
  {
   "cell_type": "code",
   "execution_count": 14,
   "id": "8b97a1b6",
   "metadata": {},
   "outputs": [],
   "source": [
    "y_pred_gbc = gbc_model.predict(X_train_encoded)"
   ]
  },
  {
   "cell_type": "code",
   "execution_count": 15,
   "id": "e2c2648f",
   "metadata": {},
   "outputs": [
    {
     "name": "stdout",
     "output_type": "stream",
     "text": [
      "Gradient Boosting Training Accuracy: 0.9205607476635514\n"
     ]
    }
   ],
   "source": [
    "accuracy_gbc = accuracy_score(y_train_encoded, y_pred_gbc)\n",
    "print(\"Gradient Boosting Training Accuracy:\", accuracy_gbc)"
   ]
  },
  {
   "cell_type": "code",
   "execution_count": 16,
   "id": "81264881",
   "metadata": {},
   "outputs": [
    {
     "name": "stdout",
     "output_type": "stream",
     "text": [
      "              precision    recall  f1-score   support\n",
      "\n",
      "           0       0.94      0.95      0.95      2523\n",
      "           1       0.88      0.90      0.89      3082\n",
      "           2       0.92      0.91      0.91      2910\n",
      "           3       0.97      0.98      0.98      3248\n",
      "           4       1.00      1.00      1.00      4046\n",
      "           5       0.84      0.79      0.81      2427\n",
      "           6       0.84      0.85      0.84      2522\n",
      "\n",
      "    accuracy                           0.92     20758\n",
      "   macro avg       0.91      0.91      0.91     20758\n",
      "weighted avg       0.92      0.92      0.92     20758\n",
      "\n"
     ]
    }
   ],
   "source": [
    "print(classification_report(y_train_encoded, y_pred_gbc))"
   ]
  },
  {
   "cell_type": "code",
   "execution_count": 18,
   "id": "864d4a90",
   "metadata": {},
   "outputs": [],
   "source": [
    "gnb_model = GaussianNB()"
   ]
  },
  {
   "cell_type": "code",
   "execution_count": 19,
   "id": "4c74ff92",
   "metadata": {},
   "outputs": [
    {
     "data": {
      "text/plain": [
       "GaussianNB()"
      ]
     },
     "execution_count": 19,
     "metadata": {},
     "output_type": "execute_result"
    }
   ],
   "source": [
    "gnb_model.fit(X_train_encoded, y_train_encoded)"
   ]
  },
  {
   "cell_type": "code",
   "execution_count": 20,
   "id": "0d26385e",
   "metadata": {},
   "outputs": [],
   "source": [
    "y_pred_gnb = gnb_model.predict(X_train_encoded)"
   ]
  },
  {
   "cell_type": "code",
   "execution_count": 21,
   "id": "0c3b5293",
   "metadata": {},
   "outputs": [
    {
     "name": "stdout",
     "output_type": "stream",
     "text": [
      "Naive Bayes Training Accuracy: 0.6992003083148666\n"
     ]
    }
   ],
   "source": [
    "accuracy_gnb = accuracy_score(y_train_encoded, y_pred_gnb)\n",
    "print(\"Naive Bayes Training Accuracy:\", accuracy_gnb)"
   ]
  },
  {
   "cell_type": "code",
   "execution_count": 22,
   "id": "82ab1b32",
   "metadata": {},
   "outputs": [
    {
     "name": "stdout",
     "output_type": "stream",
     "text": [
      "              precision    recall  f1-score   support\n",
      "\n",
      "           0       0.74      0.76      0.75      2523\n",
      "           1       0.62      0.57      0.59      3082\n",
      "           2       0.49      0.73      0.59      2910\n",
      "           3       0.83      0.90      0.86      3248\n",
      "           4       0.92      1.00      0.96      4046\n",
      "           5       0.58      0.33      0.42      2427\n",
      "           6       0.55      0.38      0.45      2522\n",
      "\n",
      "    accuracy                           0.70     20758\n",
      "   macro avg       0.68      0.67      0.66     20758\n",
      "weighted avg       0.69      0.70      0.69     20758\n",
      "\n"
     ]
    }
   ],
   "source": [
    "print(classification_report(y_train_encoded, y_pred_gnb))"
   ]
  }
 ],
 "metadata": {
  "kernelspec": {
   "display_name": "Python 3 (ipykernel)",
   "language": "python",
   "name": "python3"
  },
  "language_info": {
   "codemirror_mode": {
    "name": "ipython",
    "version": 3
   },
   "file_extension": ".py",
   "mimetype": "text/x-python",
   "name": "python",
   "nbconvert_exporter": "python",
   "pygments_lexer": "ipython3",
   "version": "3.9.12"
  }
 },
 "nbformat": 4,
 "nbformat_minor": 5
}
